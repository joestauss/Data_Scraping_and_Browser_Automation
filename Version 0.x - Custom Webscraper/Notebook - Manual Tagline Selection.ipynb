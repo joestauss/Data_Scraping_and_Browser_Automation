{
 "cells": [
  {
   "cell_type": "code",
   "execution_count": 1,
   "metadata": {},
   "outputs": [
    {
     "name": "stdout",
     "output_type": "stream",
     "text": [
      "============================\n",
      "||                        ||\n",
      "||     FilmCollection     ||\n",
      "||                        ||\n",
      "============================\n",
      "Calamity Jane :\n",
      "===============\n",
      "title:     Calamity Jane\n",
      "year:      1953\n",
      "\n",
      "A Fistful of Dollars :\n",
      "======================\n",
      "title:     A Fistful of Dollars\n",
      "year:      1964\n",
      "\n",
      "Two Mules for Sister Sara :\n",
      "===========================\n",
      "title:     Two Mules for Sister Sara\n",
      "year:      1970\n",
      "\n"
     ]
    }
   ],
   "source": [
    "from FilmCollection import *\n",
    "from filmsets import *\n",
    "\n",
    "collection = FilmCollection( GenreSet.Western.small)\n",
    "collection.load_all_metadata()\n",
    "print( collection)"
   ]
  },
  {
   "cell_type": "code",
   "execution_count": 2,
   "metadata": {},
   "outputs": [
    {
     "name": "stdout",
     "output_type": "stream",
     "text": [
      "==================================================\n",
      "||                                              ||\n",
      "||     Two Mules for Sister Sara :              ||\n",
      "||     ===========================              ||\n",
      "||     title:     Two Mules for Sister Sara     ||\n",
      "||     year:      1970                          ||\n",
      "||                                              ||\n",
      "||                                              ||\n",
      "==================================================\n",
      "Please enter the number of the tagline(s) you would like, separated by a comma.\n",
      "0:   CLINT EASTWOOD...the deadliest man alive...takes on a whole army with two guns and a fistful of dynamite!\n",
      ">>> 0, 1\n",
      "User wants 0, 1.  This corresponds to the following taglines:\n",
      "\tCLINT EASTWOOD...the deadliest man alive...takes on a whole army with two guns and a fistful of dynamite!\n",
      "\t1 was not a valid choice.\n",
      "=============================================\n",
      "||                                         ||\n",
      "||     A Fistful of Dollars :              ||\n",
      "||     ======================              ||\n",
      "||     title:     A Fistful of Dollars     ||\n",
      "||     year:      1964                     ||\n",
      "||                                         ||\n",
      "||                                         ||\n",
      "=============================================\n",
      "Please enter the number of the tagline(s) you would like, separated by a comma.\n",
      "0:   This short cigar belongs to a man with no name. This long gun belongs to a man with no name. This poncho belongs to a man with no name. He's going to trigger a whole new style in adventure.\n",
      "1:   This is the man with no name. Danger fits him like a glove.\n",
      "2:   In his own way he is, perhaps, the most dangerous man who ever lived!\n",
      "3:   A Fistful of Dollars is the first motion picture of its kind. It won't be the last!\n",
      "4:   A town where everyone is rich... or dead\n",
      ">>> 1, 4\n",
      "User wants 1, 4.  This corresponds to the following taglines:\n",
      "\tThis is the man with no name. Danger fits him like a glove.\n",
      "\tA town where everyone is rich... or dead\n",
      "======================================\n",
      "||                                  ||\n",
      "||     Calamity Jane :              ||\n",
      "||     ===============              ||\n",
      "||     title:     Calamity Jane     ||\n",
      "||     year:      1953              ||\n",
      "||                                  ||\n",
      "||                                  ||\n",
      "======================================\n",
      "Please enter the number of the tagline(s) you would like, separated by a comma.\n",
      "0:   Brand-new song hits by the stage load!\n",
      "1:   Yippeeeee!! It's the big bonanza in musical extravaganza!\n",
      "2:   Warner Bros. sky highest, smile widest, wild and woolliest Western of 'em all!\n",
      ">>> 0\n",
      "User wants 0.  This corresponds to the following taglines:\n",
      "\tBrand-new song hits by the stage load!\n"
     ]
    }
   ],
   "source": [
    "for film in collection.films:\n",
    "    film.metadata_flags.add(FilmRecord.TAGLINES_FLAG)\n",
    "collection.manual_tagline_selection()"
   ]
  },
  {
   "cell_type": "code",
   "execution_count": 3,
   "metadata": {},
   "outputs": [
    {
     "name": "stdout",
     "output_type": "stream",
     "text": [
      "============================\n",
      "||                        ||\n",
      "||     FilmCollection     ||\n",
      "||                        ||\n",
      "============================\n",
      "Calamity Jane :\n",
      "===============\n",
      "title:        Calamity Jane\n",
      "year:         1953\n",
      "taglines:\n",
      "     Brand-new song hits by the stage load!\n",
      "\n",
      "A Fistful of Dollars :\n",
      "======================\n",
      "title:        A Fistful of Dollars\n",
      "year:         1964\n",
      "taglines:\n",
      "     This is the man with no name. Danger fits him like a glove.\n",
      "     A town where everyone is rich... or dead\n",
      "\n",
      "Two Mules for Sister Sara :\n",
      "===========================\n",
      "title:        Two Mules for Sister Sara\n",
      "year:         1970\n",
      "taglines:\n",
      "     CLINT EASTWOOD...the deadliest man alive...takes on a whole army with two guns and a fistful of dynamite!\n",
      "\n"
     ]
    }
   ],
   "source": [
    " print( collection)"
   ]
  }
 ],
 "metadata": {
  "kernelspec": {
   "display_name": "Python 3",
   "language": "python",
   "name": "python3"
  },
  "language_info": {
   "codemirror_mode": {
    "name": "ipython",
    "version": 3
   },
   "file_extension": ".py",
   "mimetype": "text/x-python",
   "name": "python",
   "nbconvert_exporter": "python",
   "pygments_lexer": "ipython3",
   "version": "3.8.5"
  }
 },
 "nbformat": 4,
 "nbformat_minor": 4
}
