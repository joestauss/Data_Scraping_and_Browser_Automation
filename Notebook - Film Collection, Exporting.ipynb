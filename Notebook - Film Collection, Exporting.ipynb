{
 "cells": [
  {
   "cell_type": "code",
   "execution_count": 1,
   "metadata": {},
   "outputs": [
    {
     "name": "stdout",
     "output_type": "stream",
     "text": [
      "Creating thread 1.\n",
      "Waiting for 1 threads..\n"
     ]
    }
   ],
   "source": [
    "from filmsets import *\n",
    "from FilmCollectionExport import *\n",
    "\n",
    "filmset = TestSet.tiny\n",
    "\n",
    "detailed_collection = DetailedFilmCollection( filmset)\n",
    "detailed_collection.scrape_all()"
   ]
  },
  {
   "cell_type": "code",
   "execution_count": 2,
   "metadata": {},
   "outputs": [
    {
     "name": "stdout",
     "output_type": "stream",
     "text": [
      "INSERT INTO Movie (movie_id, movie_title, movie_year) VALUES (\"tt0859635\", \"Super Troopers 2\", 2018);\n"
     ]
    }
   ],
   "source": [
    "print( BaseSQLExport( detailed_collection))"
   ]
  },
  {
   "cell_type": "code",
   "execution_count": 3,
   "metadata": {
    "scrolled": true
   },
   "outputs": [
    {
     "name": "stdout",
     "output_type": "stream",
     "text": [
      "INSERT INTO Movie (movie_id, movie_title, movie_year) VALUES (\"tt0859635\", \"Super Troopers 2\", 2018);\n",
      "\n",
      "INSERT INTO Tagline (movie_id, tagline_text, tagline_id) VALUES (\"tt0859635\", \"The time is meow.\", 0);\n",
      "INSERT INTO Tagline (movie_id, tagline_text, tagline_id) VALUES (\"tt0859635\", \"The Mustache Rides, Again.\", 1);\n"
     ]
    }
   ],
   "source": [
    "print( TaglineSQLExport( detailed_collection))"
   ]
  },
  {
   "cell_type": "code",
   "execution_count": 4,
   "metadata": {},
   "outputs": [
    {
     "name": "stdout",
     "output_type": "stream",
     "text": [
      "INSERT INTO Movie (movie_id, movie_title, movie_year) VALUES (\"tt0859635\", \"Super Troopers 2\", 2018);\n",
      "\n",
      "INSERT INTO Production (production_id, production_name) VALUES (0, \"Heretical Reason Productions\");\n",
      "INSERT INTO Production (production_id, production_name) VALUES (1, \"Needle's Eye Productions\");\n",
      "INSERT INTO Production (production_id, production_name) VALUES (2, \"Votiv Films\");\n",
      "INSERT INTO Production (production_id, production_name) VALUES (3, \"Cataland Films\");\n",
      "INSERT INTO Production (production_id, production_name) VALUES (4, \"Broken Lizard Industries\");\n",
      "\n",
      "INSERT INTO MovieProduction (movie_id, production_id) VALUES (\"tt0859635\", 0);\n",
      "INSERT INTO MovieProduction (movie_id, production_id) VALUES (\"tt0859635\", 1);\n",
      "INSERT INTO MovieProduction (movie_id, production_id) VALUES (\"tt0859635\", 2);\n",
      "INSERT INTO MovieProduction (movie_id, production_id) VALUES (\"tt0859635\", 3);\n",
      "INSERT INTO MovieProduction (movie_id, production_id) VALUES (\"tt0859635\", 4);\n"
     ]
    }
   ],
   "source": [
    "print( ProductionSQLExport( detailed_collection))"
   ]
  },
  {
   "cell_type": "code",
   "execution_count": 5,
   "metadata": {},
   "outputs": [
    {
     "name": "stdout",
     "output_type": "stream",
     "text": [
      "INSERT INTO Movie (movie_id, movie_title, movie_year, movie_budget, movie_boxoffice, movie_runtime) VALUES (\"tt0859635\", \"Super Troopers 2\", 2018, 13500000, 31626386, 100);\n",
      "\n",
      "INSERT INTO Person (person_id, person_name) VALUES (0, \"Kevin Heffernan\");\n",
      "INSERT INTO Person (person_id, person_name) VALUES (1, \"Jay Chandrasekhar\");\n",
      "INSERT INTO Person (person_id, person_name) VALUES (2, \"Steve Lemme\");\n",
      "\n",
      "INSERT INTO RoleCode (role_name, role_code) VALUES (\"Director\", 0);\n",
      "INSERT INTO RoleCode (role_name, role_code) VALUES (\"Writer\", 1);\n",
      "INSERT INTO RoleCode (role_name, role_code) VALUES (\"Actor\", 2);\n",
      "\n",
      "INSERT INTO Role (movie_id, role_code, person_id) VALUES (\"tt0859635\", 0, 0);\n",
      "INSERT INTO Role (movie_id, role_code, person_id) VALUES (\"tt0859635\", 0, 1);\n",
      "INSERT INTO Role (movie_id, role_code, person_id) VALUES (\"tt0859635\", 1, 2);\n",
      "INSERT INTO Role (movie_id, role_code, person_id) VALUES (\"tt0859635\", 1, 0);\n",
      "INSERT INTO Role (movie_id, role_code, person_id) VALUES (\"tt0859635\", 1, 1);\n",
      "INSERT INTO Role (movie_id, role_code, person_id) VALUES (\"tt0859635\", 2, 1);\n",
      "\n",
      "INSERT INTO Genre (genre_id, genre_name) VALUES (0, \"Mystery\");\n",
      "INSERT INTO Genre (genre_id, genre_name) VALUES (1, \"Crime\");\n",
      "INSERT INTO Genre (genre_id, genre_name) VALUES (2, \"Comedy\");\n",
      "\n",
      "INSERT INTO MovieGenre (movie_id, genre_id) VALUES (\"tt0859635\", 0);\n",
      "INSERT INTO MovieGenre (movie_id, genre_id) VALUES (\"tt0859635\", 1);\n",
      "INSERT INTO MovieGenre (movie_id, genre_id) VALUES (\"tt0859635\", 2);\n",
      "\n",
      "INSERT INTO Production (production_id, production_name) VALUES (0, \"Heretical Reason Productions\");\n",
      "INSERT INTO Production (production_id, production_name) VALUES (1, \"Needle's Eye Productions\");\n",
      "INSERT INTO Production (production_id, production_name) VALUES (2, \"Votiv Films\");\n",
      "INSERT INTO Production (production_id, production_name) VALUES (3, \"Cataland Films\");\n",
      "INSERT INTO Production (production_id, production_name) VALUES (4, \"Broken Lizard Industries\");\n",
      "\n",
      "INSERT INTO MovieProduction (movie_id, production_id) VALUES (\"tt0859635\", 0);\n",
      "INSERT INTO MovieProduction (movie_id, production_id) VALUES (\"tt0859635\", 1);\n",
      "INSERT INTO MovieProduction (movie_id, production_id) VALUES (\"tt0859635\", 2);\n",
      "INSERT INTO MovieProduction (movie_id, production_id) VALUES (\"tt0859635\", 3);\n",
      "INSERT INTO MovieProduction (movie_id, production_id) VALUES (\"tt0859635\", 4);\n",
      "\n",
      "INSERT INTO Tagline (movie_id, tagline_text, tagline_id) VALUES (\"tt0859635\", \"The time is meow.\", 0);\n",
      "INSERT INTO Tagline (movie_id, tagline_text, tagline_id) VALUES (\"tt0859635\", \"The Mustache Rides, Again.\", 1);\n"
     ]
    }
   ],
   "source": [
    "print( DetailedSQLExport( detailed_collection))"
   ]
  }
 ],
 "metadata": {
  "kernelspec": {
   "display_name": "Python 3",
   "language": "python",
   "name": "python3"
  },
  "language_info": {
   "codemirror_mode": {
    "name": "ipython",
    "version": 3
   },
   "file_extension": ".py",
   "mimetype": "text/x-python",
   "name": "python",
   "nbconvert_exporter": "python",
   "pygments_lexer": "ipython3",
   "version": "3.8.5"
  }
 },
 "nbformat": 4,
 "nbformat_minor": 4
}
