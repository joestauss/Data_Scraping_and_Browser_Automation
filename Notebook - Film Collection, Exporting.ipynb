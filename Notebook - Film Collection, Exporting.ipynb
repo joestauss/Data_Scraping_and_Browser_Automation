{
 "cells": [
  {
   "cell_type": "code",
   "execution_count": 1,
   "metadata": {},
   "outputs": [],
   "source": [
    "from filmsets import *\n",
    "from FilmCollectionExport import *\n",
    "\n",
    "filmset = GenreSet.Comedy.tiny\n",
    "\n",
    "collection = FilmCollection( \n",
    "    filmset, \n",
    "    default_metadata=[\n",
    "        FilmRecord.IDENTITY_FLAG,\n",
    "        FilmRecord.TAGLINES_FLAG,\n",
    "        FilmRecord.PROD_COS_FLAG,\n",
    "        FilmRecord.DETAILED_FLAG\n",
    "    ])\n",
    "collection.load_all_metadata()"
   ]
  },
  {
   "cell_type": "code",
   "execution_count": 2,
   "metadata": {},
   "outputs": [
    {
     "name": "stdout",
     "output_type": "stream",
     "text": [
      "INSERT INTO Movie (film_id, film_title, film_year) VALUES (\"tt0247745\", \"Super Troopers\", 2001);\n"
     ]
    }
   ],
   "source": [
    "print( SQLExport.BaseSQLExport( collection))"
   ]
  },
  {
   "cell_type": "code",
   "execution_count": 3,
   "metadata": {
    "scrolled": true
   },
   "outputs": [
    {
     "name": "stdout",
     "output_type": "stream",
     "text": [
      "INSERT INTO Movie (film_id, film_title, film_year) VALUES (\"tt0247745\", \"Super Troopers\", 2001);\n",
      "\n",
      "INSERT INTO Tagline (film_id, tagline_text, tagline_id) VALUES (\"tt0247745\", \"Altered State Police\", 0);\n",
      "INSERT INTO Tagline (film_id, tagline_text, tagline_id) VALUES (\"tt0247745\", \"You dont mess with the law.  The law messes with you.\", 1);\n"
     ]
    }
   ],
   "source": [
    "print( SQLExport.TaglineSQLExport( collection))"
   ]
  },
  {
   "cell_type": "code",
   "execution_count": 4,
   "metadata": {},
   "outputs": [
    {
     "name": "stdout",
     "output_type": "stream",
     "text": [
      "INSERT INTO Movie (film_id, film_title, film_year) VALUES (\"tt0247745\", \"Super Troopers\", 2001);\n",
      "\n",
      "INSERT INTO Production (production_id, production_name) VALUES (0, \"Cataland Films\");\n",
      "INSERT INTO Production (production_id, production_name) VALUES (1, \"Broken Lizard Industries\");\n",
      "INSERT INTO Production (production_id, production_name) VALUES (2, \"Fox Searchlight Pictures\");\n",
      "INSERT INTO Production (production_id, production_name) VALUES (3, \"Jersey Shore\");\n",
      "INSERT INTO Production (production_id, production_name) VALUES (4, \"Árpád Productions\");\n",
      "\n",
      "INSERT INTO MovieProduction (film_id, production_id) VALUES (\"tt0247745\", 0);\n",
      "INSERT INTO MovieProduction (film_id, production_id) VALUES (\"tt0247745\", 1);\n",
      "INSERT INTO MovieProduction (film_id, production_id) VALUES (\"tt0247745\", 2);\n",
      "INSERT INTO MovieProduction (film_id, production_id) VALUES (\"tt0247745\", 3);\n",
      "INSERT INTO MovieProduction (film_id, production_id) VALUES (\"tt0247745\", 4);\n"
     ]
    }
   ],
   "source": [
    "print( SQLExport.ProductionSQLExport( collection))"
   ]
  },
  {
   "cell_type": "code",
   "execution_count": 5,
   "metadata": {},
   "outputs": [
    {
     "name": "stdout",
     "output_type": "stream",
     "text": [
      "INSERT INTO Movie (film_id, film_title, film_year, film_budget, film_boxoffice, film_runtime) VALUES (\"tt0247745\", \"Super Troopers\", 2001, 3000000, 23182223, 100);\n",
      "\n",
      "INSERT INTO Person (person_id, person_name) VALUES (0, \"Jay Chandrasekhar\");\n",
      "INSERT INTO Person (person_id, person_name) VALUES (1, \"Kevin Heffernan\");\n",
      "INSERT INTO Person (person_id, person_name) VALUES (2, \"André Vippolis\");\n",
      "\n",
      "INSERT INTO RoleCode (role_name, role_code) VALUES (\"Director\", 0);\n",
      "INSERT INTO RoleCode (role_name, role_code) VALUES (\"Writer\", 1);\n",
      "INSERT INTO RoleCode (role_name, role_code) VALUES (\"Actor\", 2);\n",
      "\n",
      "INSERT INTO Role (film_id, role_code, person_id) VALUES (\"tt0247745\", 0, 0);\n",
      "INSERT INTO Role (film_id, role_code, person_id) VALUES (\"tt0247745\", 1, 1);\n",
      "INSERT INTO Role (film_id, role_code, person_id) VALUES (\"tt0247745\", 1, 0);\n",
      "INSERT INTO Role (film_id, role_code, person_id) VALUES (\"tt0247745\", 2, 1);\n",
      "INSERT INTO Role (film_id, role_code, person_id) VALUES (\"tt0247745\", 2, 2);\n",
      "INSERT INTO Role (film_id, role_code, person_id) VALUES (\"tt0247745\", 2, 0);\n",
      "\n",
      "INSERT INTO Genre (genre_id, genre_name) VALUES (0, \"Crime\");\n",
      "INSERT INTO Genre (genre_id, genre_name) VALUES (1, \"Comedy\");\n",
      "INSERT INTO Genre (genre_id, genre_name) VALUES (2, \"Mystery\");\n",
      "\n",
      "INSERT INTO MovieGenre (film_id, genre_id) VALUES (\"tt0247745\", 0);\n",
      "INSERT INTO MovieGenre (film_id, genre_id) VALUES (\"tt0247745\", 1);\n",
      "INSERT INTO MovieGenre (film_id, genre_id) VALUES (\"tt0247745\", 2);\n",
      "\n",
      "INSERT INTO Production (production_id, production_name) VALUES (0, \"Cataland Films\");\n",
      "INSERT INTO Production (production_id, production_name) VALUES (1, \"Broken Lizard Industries\");\n",
      "INSERT INTO Production (production_id, production_name) VALUES (2, \"Fox Searchlight Pictures\");\n",
      "INSERT INTO Production (production_id, production_name) VALUES (3, \"Jersey Shore\");\n",
      "INSERT INTO Production (production_id, production_name) VALUES (4, \"Árpád Productions\");\n",
      "\n",
      "INSERT INTO MovieProduction (film_id, production_id) VALUES (\"tt0247745\", 0);\n",
      "INSERT INTO MovieProduction (film_id, production_id) VALUES (\"tt0247745\", 1);\n",
      "INSERT INTO MovieProduction (film_id, production_id) VALUES (\"tt0247745\", 2);\n",
      "INSERT INTO MovieProduction (film_id, production_id) VALUES (\"tt0247745\", 3);\n",
      "INSERT INTO MovieProduction (film_id, production_id) VALUES (\"tt0247745\", 4);\n",
      "\n",
      "INSERT INTO Tagline (film_id, tagline_text, tagline_id) VALUES (\"tt0247745\", \"Altered State Police\", 0);\n",
      "INSERT INTO Tagline (film_id, tagline_text, tagline_id) VALUES (\"tt0247745\", \"You dont mess with the law.  The law messes with you.\", 1);\n"
     ]
    }
   ],
   "source": [
    "print( SQLExport.DetailedSQLExport( collection))"
   ]
  }
 ],
 "metadata": {
  "kernelspec": {
   "display_name": "Python 3",
   "language": "python",
   "name": "python3"
  },
  "language_info": {
   "codemirror_mode": {
    "name": "ipython",
    "version": 3
   },
   "file_extension": ".py",
   "mimetype": "text/x-python",
   "name": "python",
   "nbconvert_exporter": "python",
   "pygments_lexer": "ipython3",
   "version": "3.8.5"
  }
 },
 "nbformat": 4,
 "nbformat_minor": 4
}
