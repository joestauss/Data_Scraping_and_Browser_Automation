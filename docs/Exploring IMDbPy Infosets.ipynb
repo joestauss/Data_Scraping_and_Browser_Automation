{
 "cells": [
  {
   "cell_type": "markdown",
   "id": "forty-preservation",
   "metadata": {},
   "source": [
    "# Initializing List of Infosets"
   ]
  },
  {
   "cell_type": "code",
   "execution_count": 1,
   "id": "exclusive-baseball",
   "metadata": {},
   "outputs": [],
   "source": [
    "from imdb        import IMDb\n",
    "from collections import namedtuple\n",
    "from py_util.cli import boxed_text\n",
    "\n",
    "ia = IMDb()\n",
    "all_infosets = ia.get_movie_infoset()"
   ]
  },
  {
   "cell_type": "markdown",
   "id": "communist-jewel",
   "metadata": {},
   "source": [
    "# Infoset Examination Block\n",
    "This block was used to show which infosets had not been caterogized yet.  Since each of the infosets have now been sorted into a categoy, this block only defines the categories."
   ]
  },
  {
   "cell_type": "code",
   "execution_count": 2,
   "id": "aquatic-detail",
   "metadata": {},
   "outputs": [
    {
     "name": "stdout",
     "output_type": "stream",
     "text": [
      "===============================================\n",
      "||                                           ||\n",
      "||     All infosets have been evaluated!     ||\n",
      "||                                           ||\n",
      "===============================================\n"
     ]
    }
   ],
   "source": [
    "Infoset = namedtuple( 'Infoset', [ 'name', 'comment'])\n",
    "\n",
    "dont_need = {\n",
    "    Infoset( 'airing',      'This is for TV shows, not for movies.'),\n",
    "    Infoset( 'episodes',    'This is for TV shows, not for movies.'),\n",
    "    Infoset( 'tv schedule', 'This is for TV shows, not for movies.'),\n",
    "    Infoset( 'sound clips', 'I am not working with sound or video data.'),\n",
    "    Infoset( 'video clips', 'I am not working with sound or video data.'),\n",
    "    Infoset( 'soundtrack' , 'I am not working with sound or video data.'),\n",
    "    Infoset( 'synopsis',         \"Plot summaries, synopsises, and user reviews are too wordy.\"),\n",
    "    Infoset( 'critic reviews',   \"Plot summaries, synopsises, and user reviews are too wordy.\"),\n",
    "    Infoset( 'plot',             \"Plot summaries, synopsises, and user reviews are too wordy.\"),\n",
    "    Infoset( 'reviews',          \"Plot summaries, synopsises, and user reviews are too wordy.\"),\n",
    "    Infoset( 'external reviews', \"Plot summaries, synopsises, and user reviews are too wordy.\"),\n",
    "    Infoset( 'parents guide', \"I don't care about technical, location, certification, or release info.\"),\n",
    "    Infoset( 'release dates', \"I don't care about technical, location, certification, or release info.\"),\n",
    "    Infoset( 'release info',  \"I don't care about technical, location, certification, or release info.\"),\n",
    "    Infoset( 'locations',     \"I don't care about technical, location, certification, or release info.\"),\n",
    "    Infoset( 'technical',     \"I don't care about technical, location, certification, or release info.\"),\n",
    "    Infoset( 'photo sites',    'This data is included with \"external sites\".'),\n",
    "    Infoset( 'official sites', 'This data is included with \"external sites\".'),\n",
    "    Infoset( 'misc sites',     'This data is included with \"external sites\".'),\n",
    "}\n",
    "\n",
    "investigate_more = {\n",
    "    Infoset( 'alternate versions', 'Nothing for Dr. Zhivago.  Maybe other movies?'),\n",
    "    Infoset( 'connections', 'Nothing for Dr. Zhivago.  Maybe other movies?'),\n",
    "    Infoset( 'crazy credits', 'Nothing for Dr. Zhivago.  Maybe other movies?'),\n",
    "    Infoset( 'faqs', 'Nothing for Dr. Zhivago.  Maybe other movies?'),\n",
    "    Infoset( 'list', 'Nothing for Dr. Zhivago.  Maybe other movies?'),\n",
    "    Infoset( 'news', 'Nothing for Dr. Zhivago.  Maybe other movies?'),\n",
    "}\n",
    "\n",
    "need = {\n",
    "    Infoset( 'external sites', 'Includes \"official sites\", \"misc sites\", and \"photo sites\".'),\n",
    "    Infoset( 'akas', 'Provides \"raw akas\", which can be searched by country.'),\n",
    "    Infoset( 'awards', 'Awards are searchable by outcome, so I can filter out nominations easily'),\n",
    "    Infoset( 'full credits', 'Only returns imdb.Person objects: no roles.'),\n",
    "    Infoset( 'goofs', 'Can be filtered by category of goof.'),\n",
    "    Infoset( 'keywords', \"Eventually, but I won't be using it for a while.\"),\n",
    "    Infoset( 'trivia', 'Returns a list in order of most-found-interesting.'),\n",
    "    Infoset( 'recommendations', 'The same 12 as online, so it includes this film .'),\n",
    "    Infoset( 'taglines', \"It's unclear whether there are parenthetical statements (in some of them).\"),\n",
    "    Infoset( 'vote details', 'Returns vote count for each possible ranking.'),\n",
    "    Infoset( 'quotes', \"Eventually, but I won't be using it for a while.\"),\n",
    "    Infoset( 'main', 'Gotta have main.'),\n",
    "}\n",
    "\n",
    "examined_infosets = {i.name for i in need | dont_need | investigate_more}\n",
    "\n",
    "for infoset in examined_infosets - set(all_infosets):\n",
    "    raise ValueError( f'There is an evaluation for an invalid infoset named {repr( infoset)}.')\n",
    "\n",
    "    \n",
    "if all([i in examined_infosets for i in all_infosets]):\n",
    "    print( boxed_text( \"All infosets have been evaluated!\"))\n",
    "else:\n",
    "    print( boxed_text( \"The following infosets are not in a category:\"))\n",
    "    for infoset in all_infosets:\n",
    "        if infoset not in examined_infosets:\n",
    "            print( infoset)"
   ]
  },
  {
   "cell_type": "markdown",
   "id": "secure-savage",
   "metadata": {},
   "source": [
    "# Examining the Infoset Categories in Detail"
   ]
  },
  {
   "cell_type": "code",
   "execution_count": 3,
   "id": "extra-combination",
   "metadata": {},
   "outputs": [],
   "source": [
    "def print_infoset_set( infoset_set):\n",
    "    longest_name = max( {len( str( x.name)) for x in infoset_set})\n",
    "    for name, comment in sorted( infoset_set, key=lambda x: x.name):\n",
    "        print( f\"{name}{' ' * (longest_name - len( name))}   ||   {comment}\")"
   ]
  },
  {
   "cell_type": "markdown",
   "id": "unusual-surname",
   "metadata": {},
   "source": [
    "## Infosets that I will be using something from"
   ]
  },
  {
   "cell_type": "code",
   "execution_count": 4,
   "id": "threatened-albert",
   "metadata": {},
   "outputs": [
    {
     "name": "stdout",
     "output_type": "stream",
     "text": [
      "akas              ||   Provides \"raw akas\", which can be searched by country.\n",
      "awards            ||   Awards are searchable by outcome, so I can filter out nominations easily\n",
      "external sites    ||   Includes \"official sites\", \"misc sites\", and \"photo sites\".\n",
      "full credits      ||   Only returns imdb.Person objects: no roles.\n",
      "goofs             ||   Can be filtered by category of goof.\n",
      "keywords          ||   Eventually, but I won't be using it for a while.\n",
      "main              ||   Gotta have main.\n",
      "quotes            ||   Eventually, but I won't be using it for a while.\n",
      "recommendations   ||   The same 12 as online, so it includes this film .\n",
      "taglines          ||   It's unclear whether there are parenthetical statements (in some of them).\n",
      "trivia            ||   Returns a list in order of most-found-interesting.\n",
      "vote details      ||   Returns vote count for each possible ranking.\n"
     ]
    }
   ],
   "source": [
    "print_infoset_set( need)"
   ]
  },
  {
   "cell_type": "markdown",
   "id": "collaborative-defensive",
   "metadata": {},
   "source": [
    "## Infosets that I am undecided about\n",
    "None of the infosets below had anything for Doctor Zhivago, which was the film that i used for testing.  As part of my data-injestion engine, I will see if any other films have values for these, or if they are just broken."
   ]
  },
  {
   "cell_type": "code",
   "execution_count": 5,
   "id": "ahead-adrian",
   "metadata": {},
   "outputs": [
    {
     "name": "stdout",
     "output_type": "stream",
     "text": [
      "alternate versions   ||   Nothing for Dr. Zhivago.  Maybe other movies?\n",
      "connections          ||   Nothing for Dr. Zhivago.  Maybe other movies?\n",
      "crazy credits        ||   Nothing for Dr. Zhivago.  Maybe other movies?\n",
      "faqs                 ||   Nothing for Dr. Zhivago.  Maybe other movies?\n",
      "list                 ||   Nothing for Dr. Zhivago.  Maybe other movies?\n",
      "news                 ||   Nothing for Dr. Zhivago.  Maybe other movies?\n"
     ]
    }
   ],
   "source": [
    "print_infoset_set( investigate_more)"
   ]
  },
  {
   "cell_type": "markdown",
   "id": "sustainable-platinum",
   "metadata": {},
   "source": [
    "## Infosets that I will not be using"
   ]
  },
  {
   "cell_type": "code",
   "execution_count": 6,
   "id": "quality-drunk",
   "metadata": {},
   "outputs": [
    {
     "name": "stdout",
     "output_type": "stream",
     "text": [
      "airing             ||   This is for TV shows, not for movies.\n",
      "critic reviews     ||   Plot summaries, synopsises, and user reviews are too wordy.\n",
      "episodes           ||   This is for TV shows, not for movies.\n",
      "external reviews   ||   Plot summaries, synopsises, and user reviews are too wordy.\n",
      "locations          ||   I don't care about technical, location, certification, or release info.\n",
      "misc sites         ||   This data is included with \"external sites\".\n",
      "official sites     ||   This data is included with \"external sites\".\n",
      "parents guide      ||   I don't care about technical, location, certification, or release info.\n",
      "photo sites        ||   This data is included with \"external sites\".\n",
      "plot               ||   Plot summaries, synopsises, and user reviews are too wordy.\n",
      "release dates      ||   I don't care about technical, location, certification, or release info.\n",
      "release info       ||   I don't care about technical, location, certification, or release info.\n",
      "reviews            ||   Plot summaries, synopsises, and user reviews are too wordy.\n",
      "sound clips        ||   I am not working with sound or video data.\n",
      "soundtrack         ||   I am not working with sound or video data.\n",
      "synopsis           ||   Plot summaries, synopsises, and user reviews are too wordy.\n",
      "technical          ||   I don't care about technical, location, certification, or release info.\n",
      "tv schedule        ||   This is for TV shows, not for movies.\n",
      "video clips        ||   I am not working with sound or video data.\n"
     ]
    }
   ],
   "source": [
    "print_infoset_set( dont_need)"
   ]
  }
 ],
 "metadata": {
  "kernelspec": {
   "display_name": "Python 3",
   "language": "python",
   "name": "python3"
  },
  "language_info": {
   "codemirror_mode": {
    "name": "ipython",
    "version": 3
   },
   "file_extension": ".py",
   "mimetype": "text/x-python",
   "name": "python",
   "nbconvert_exporter": "python",
   "pygments_lexer": "ipython3",
   "version": "3.9.1"
  }
 },
 "nbformat": 4,
 "nbformat_minor": 5
}
