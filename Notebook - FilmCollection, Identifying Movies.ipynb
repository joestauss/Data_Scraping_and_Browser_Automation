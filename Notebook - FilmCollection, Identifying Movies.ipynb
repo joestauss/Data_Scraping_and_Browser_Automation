{
 "cells": [
  {
   "cell_type": "code",
   "execution_count": 1,
   "metadata": {},
   "outputs": [
    {
     "name": "stdout",
     "output_type": "stream",
     "text": [
      "Adding record 1 of 2:\ttt0042376\n",
      "Adding record 2 of 2:\tTommy Boy (1995)\n"
     ]
    }
   ],
   "source": [
    "from FilmCollection import *\n",
    "from filmsets import *\n",
    "\n",
    "coll = BaseFilmCollection (TestSet.MixedFormat.tiny, VERBOSE=True)"
   ]
  },
  {
   "cell_type": "code",
   "execution_count": 2,
   "metadata": {},
   "outputs": [
    {
     "name": "stdout",
     "output_type": "stream",
     "text": [
      "=============================\n",
      "||                         ||\n",
      "||     Film Collection     ||\n",
      "||                         ||\n",
      "=============================\n",
      "tt0042376\n",
      "tt0114694\n"
     ]
    }
   ],
   "source": [
    "print(coll)"
   ]
  },
  {
   "cell_type": "code",
   "execution_count": 3,
   "metadata": {},
   "outputs": [
    {
     "name": "stdout",
     "output_type": "stream",
     "text": [
      "=============================\n",
      "||                         ||\n",
      "||     Film Collection     ||\n",
      "||                         ||\n",
      "=============================\n",
      "tt0042376 : The Damned Don't Cry (1950)\n",
      "tt0114694 : Tommy Boy (1995)\n"
     ]
    }
   ],
   "source": [
    "coll.identify_all()\n",
    "print(coll)"
   ]
  }
 ],
 "metadata": {
  "kernelspec": {
   "display_name": "Python 3",
   "language": "python",
   "name": "python3"
  },
  "language_info": {
   "codemirror_mode": {
    "name": "ipython",
    "version": 3
   },
   "file_extension": ".py",
   "mimetype": "text/x-python",
   "name": "python",
   "nbconvert_exporter": "python",
   "pygments_lexer": "ipython3",
   "version": "3.8.5"
  }
 },
 "nbformat": 4,
 "nbformat_minor": 4
}
