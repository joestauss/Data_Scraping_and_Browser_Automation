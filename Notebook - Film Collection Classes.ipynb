{
 "cells": [
  {
   "cell_type": "code",
   "execution_count": 1,
   "metadata": {},
   "outputs": [
    {
     "name": "stdout",
     "output_type": "stream",
     "text": [
      "=============================\n",
      "||                         ||\n",
      "||     Film Collection     ||\n",
      "||                         ||\n",
      "=============================\n",
      "tt0058333 : None (None)\n",
      "tt0051622 : None (None)\n",
      "tt0045888 : None (None)\n"
     ]
    }
   ],
   "source": [
    "from filmsets import VincentPriceSets\n",
    "from FilmCollectionExport import *\n",
    "\n",
    "filmset = VincentPriceSets.small\n",
    "\n",
    "basic_collection    = BaseFilmCollection( filmset)\n",
    "print( basic_collection )"
   ]
  },
  {
   "cell_type": "code",
   "execution_count": 2,
   "metadata": {
    "scrolled": true
   },
   "outputs": [
    {
     "name": "stdout",
     "output_type": "stream",
     "text": [
      "=============================\n",
      "||                         ||\n",
      "||     Film Collection     ||\n",
      "||                         ||\n",
      "=============================\n",
      "tt0058333 : None (None)\n",
      "\t(2 taglines)\n",
      "tt0045888 : None (None)\n",
      "\t(2 taglines)\n",
      "tt0051622 : None (None)\n",
      "\t(2 taglines)\n"
     ]
    }
   ],
   "source": [
    "taglined_collection = TaglineFilmCollection(filmset)\n",
    "print(  taglined_collection)"
   ]
  },
  {
   "cell_type": "code",
   "execution_count": 3,
   "metadata": {},
   "outputs": [
    {
     "ename": "NameError",
     "evalue": "name 'ProductionFilmCollection' is not defined",
     "output_type": "error",
     "traceback": [
      "\u001b[1;31m---------------------------------------------------------------------------\u001b[0m",
      "\u001b[1;31mNameError\u001b[0m                                 Traceback (most recent call last)",
      "\u001b[1;32m<ipython-input-3-e4edde9157b2>\u001b[0m in \u001b[0;36m<module>\u001b[1;34m\u001b[0m\n\u001b[1;32m----> 1\u001b[1;33m \u001b[0mproduction_collection\u001b[0m \u001b[1;33m=\u001b[0m \u001b[0mProductionFilmCollection\u001b[0m\u001b[1;33m(\u001b[0m\u001b[0mfilmset\u001b[0m\u001b[1;33m)\u001b[0m\u001b[1;33m\u001b[0m\u001b[1;33m\u001b[0m\u001b[0m\n\u001b[0m\u001b[0;32m      2\u001b[0m \u001b[0mprint\u001b[0m\u001b[1;33m(\u001b[0m  \u001b[0mproduction_collection\u001b[0m\u001b[1;33m)\u001b[0m\u001b[1;33m\u001b[0m\u001b[1;33m\u001b[0m\u001b[0m\n",
      "\u001b[1;31mNameError\u001b[0m: name 'ProductionFilmCollection' is not defined"
     ]
    }
   ],
   "source": [
    "production_collection = ProductionFilmCollection(filmset)\n",
    "print(  production_collection)"
   ]
  },
  {
   "cell_type": "code",
   "execution_count": null,
   "metadata": {},
   "outputs": [],
   "source": [
    "detailed_collection = DetailedFilmCollection( filmset, VERBOSE = )\n",
    "print(  detailed_collection )"
   ]
  },
  {
   "cell_type": "code",
   "execution_count": null,
   "metadata": {},
   "outputs": [],
   "source": [
    "print( DetailedSQLExport( detailed_collection).as_sql())"
   ]
  }
 ],
 "metadata": {
  "kernelspec": {
   "display_name": "Python 3",
   "language": "python",
   "name": "python3"
  },
  "language_info": {
   "codemirror_mode": {
    "name": "ipython",
    "version": 3
   },
   "file_extension": ".py",
   "mimetype": "text/x-python",
   "name": "python",
   "nbconvert_exporter": "python",
   "pygments_lexer": "ipython3",
   "version": "3.8.5"
  }
 },
 "nbformat": 4,
 "nbformat_minor": 4
}
