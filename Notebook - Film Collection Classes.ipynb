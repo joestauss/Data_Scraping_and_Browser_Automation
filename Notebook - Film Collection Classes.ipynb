{
 "cells": [
  {
   "cell_type": "code",
   "execution_count": 1,
   "metadata": {},
   "outputs": [
    {
     "name": "stdout",
     "output_type": "stream",
     "text": [
      "=============================\n",
      "||                         ||\n",
      "||     Film Collection     ||\n",
      "||                         ||\n",
      "=============================\n",
      "tt0045888 : None (None)\n",
      "tt0051622 : None (None)\n",
      "tt0058333 : None (None)\n"
     ]
    }
   ],
   "source": [
    "from filmsets import VincentPriceSets\n",
    "from FilmCollectionExport import *\n",
    "\n",
    "filmset = VincentPriceSets.small\n",
    "\n",
    "basic_collection    = BaseFilmCollection( filmset)\n",
    "print( basic_collection )"
   ]
  },
  {
   "cell_type": "code",
   "execution_count": 2,
   "metadata": {
    "scrolled": true
   },
   "outputs": [
    {
     "name": "stdout",
     "output_type": "stream",
     "text": [
      "=============================\n",
      "||                         ||\n",
      "||     Film Collection     ||\n",
      "||                         ||\n",
      "=============================\n",
      "tt0058333 : None (None; 2 taglines)\n",
      "tt0051622 : None (None; 2 taglines)\n",
      "tt0045888 : None (None; 2 taglines)\n"
     ]
    }
   ],
   "source": [
    "taglined_collection = TaglineFilmCollection(filmset)\n",
    "print(  taglined_collection)"
   ]
  },
  {
   "cell_type": "code",
   "execution_count": 3,
   "metadata": {},
   "outputs": [
    {
     "name": "stdout",
     "output_type": "stream",
     "text": [
      "Adding record 1 of 3\n",
      "Adding record 2 of 3\n",
      "Adding record 3 of 3\n"
     ]
    }
   ],
   "source": [
    "detailed_collection = DetailedFilmCollection( filmset, VERBOSE = True)"
   ]
  },
  {
   "cell_type": "code",
   "execution_count": 4,
   "metadata": {},
   "outputs": [
    {
     "name": "stdout",
     "output_type": "stream",
     "text": [
      "=============================\n",
      "||                         ||\n",
      "||     Film Collection     ||\n",
      "||                         ||\n",
      "=============================\n",
      "tt0058333 : The Masque of the Red Death (1964; 1 production companies; 2 taglines; detailed record)\n",
      "tt0051622 : The Fly (1958; 2 production companies; 2 taglines; detailed record)\n",
      "tt0045888 : House of Wax (1953; 2 production companies; 2 taglines; detailed record)\n"
     ]
    }
   ],
   "source": [
    "print(  detailed_collection )"
   ]
  },
  {
   "cell_type": "code",
   "execution_count": 5,
   "metadata": {},
   "outputs": [
    {
     "name": "stdout",
     "output_type": "stream",
     "text": [
      "INSERT INTO Movie (movie_id, movie_title, movie_year, movie_budget, movie_boxoffice, movie_runtime) VALUES (\"tt0058333\", \"The Masque of the Red Death\", 1964, Null, Null, 89);\n",
      "INSERT INTO Movie (movie_id, movie_title, movie_year, movie_budget, movie_boxoffice, movie_runtime) VALUES (\"tt0051622\", \"The Fly\", 1958, 700000, 1501, 94);\n",
      "INSERT INTO Movie (movie_id, movie_title, movie_year, movie_budget, movie_boxoffice, movie_runtime) VALUES (\"tt0045888\", \"House of Wax\", 1953, 1000000, 23750000, 88);\n",
      "\n",
      "INSERT INTO Genre (genre_name, genre_id) VALUES (0, \"Horror\");\n",
      "INSERT INTO Genre (genre_name, genre_id) VALUES (1, \"Drama\");\n",
      "INSERT INTO Genre (genre_name, genre_id) VALUES (2, \"Sci-Fi\");\n",
      "\n",
      "INSERT INTO MovieGenre (movie_id, genre_id) VALUES (\"tt0058333\", 0);\n",
      "INSERT INTO MovieGenre (movie_id, genre_id) VALUES (\"tt0051622\", 0);\n",
      "INSERT INTO MovieGenre (movie_id, genre_id) VALUES (\"tt0051622\", 1);\n",
      "INSERT INTO MovieGenre (movie_id, genre_id) VALUES (\"tt0051622\", 2);\n",
      "INSERT INTO MovieGenre (movie_id, genre_id) VALUES (\"tt0045888\", 0);\n",
      "\n",
      "INSERT INTO Production (production_name, production_id) VALUES (0, \"Alta Vista Productions\");\n",
      "INSERT INTO Production (production_name, production_id) VALUES (1, \"Regal Films\");\n",
      "INSERT INTO Production (production_name, production_id) VALUES (2, \"Twentieth Century Fox\");\n",
      "INSERT INTO Production (production_name, production_id) VALUES (3, \"Warner Bros.\");\n",
      "INSERT INTO Production (production_name, production_id) VALUES (4, \"Bryan Foy Productions\");\n",
      "\n",
      "INSERT INTO MovieProduction (movie_id, production_id) VALUES (\"tt0058333\", 0);\n",
      "INSERT INTO MovieProduction (movie_id, production_id) VALUES (\"tt0051622\", 1);\n",
      "INSERT INTO MovieProduction (movie_id, production_id) VALUES (\"tt0051622\", 2);\n",
      "INSERT INTO MovieProduction (movie_id, production_id) VALUES (\"tt0045888\", 3);\n",
      "INSERT INTO MovieProduction (movie_id, production_id) VALUES (\"tt0045888\", 4);\n",
      "\n",
      "INSERT INTO Person (person_name, person_id) VALUES (0, \"R. Wright Campbell\");\n",
      "INSERT INTO Person (person_name, person_id) VALUES (1, \"Charles Beaumont\");\n",
      "INSERT INTO Person (person_name, person_id) VALUES (2, \"Roger Corman\");\n",
      "INSERT INTO Person (person_name, person_id) VALUES (3, \"James Clavell\");\n",
      "INSERT INTO Person (person_name, person_id) VALUES (4, \"George Langelaan\");\n",
      "INSERT INTO Person (person_name, person_id) VALUES (5, \"Kurt Neumann\");\n",
      "INSERT INTO Person (person_name, person_id) VALUES (6, \"Charles Belden\");\n",
      "INSERT INTO Person (person_name, person_id) VALUES (7, \"Crane Wilbur\");\n",
      "INSERT INTO Person (person_name, person_id) VALUES (8, \"André De Toth\");\n",
      "\n",
      "INSERT INTO RoleCode (role_name, role_code) VALUES (\"Director\", 0);\n",
      "INSERT INTO RoleCode (role_name, role_code) VALUES (\"Writer\", 1);\n",
      "INSERT INTO RoleCode (role_name, role_code) VALUES (\"Actor\", 2);\n",
      "\n",
      "INSERT INTO Role (movie_id, role_code, person_id) VALUES (\"tt0058333\", 0, 0);\n",
      "INSERT INTO Role (movie_id, role_code, person_id) VALUES (\"tt0058333\", 0, 1);\n",
      "INSERT INTO Role (movie_id, role_code, person_id) VALUES (\"tt0058333\", 2, 2);\n",
      "INSERT INTO Role (movie_id, role_code, person_id) VALUES (\"tt0051622\", 0, 3);\n",
      "INSERT INTO Role (movie_id, role_code, person_id) VALUES (\"tt0051622\", 0, 4);\n",
      "INSERT INTO Role (movie_id, role_code, person_id) VALUES (\"tt0051622\", 2, 5);\n",
      "INSERT INTO Role (movie_id, role_code, person_id) VALUES (\"tt0045888\", 0, 6);\n",
      "INSERT INTO Role (movie_id, role_code, person_id) VALUES (\"tt0045888\", 0, 7);\n",
      "INSERT INTO Role (movie_id, role_code, person_id) VALUES (\"tt0045888\", 2, 8);\n",
      "\n",
      "INSERT INTO Tagline (movie_id, tagline_text, tagline_id) VALUES (\"tt0058333\", \"We defy you to stare into this face.\", 0);\n",
      "INSERT INTO Tagline (movie_id, tagline_text, tagline_id) VALUES (\"tt0058333\", \"SHUDDER... at the blood-stained dance of the Red Death!  TREMBLE... to the hideous tortures of the catacombs of Kali!  GASP... at the sacrifice of the innocent virgin to the vengeance of Baal!\", 1);\n",
      "INSERT INTO Tagline (movie_id, tagline_text, tagline_id) VALUES (\"tt0051622\", \"She had to kill the thing her husband had become -- But could she?\", 2);\n",
      "INSERT INTO Tagline (movie_id, tagline_text, tagline_id) VALUES (\"tt0051622\", \"The fly with the head of a man...! And the man with the head of a fly!\", 3);\n",
      "INSERT INTO Tagline (movie_id, tagline_text, tagline_id) VALUES (\"tt0045888\", \"Beauty and Terror meet in your seat...as every thrill of its story comes off the screen right at you in NaturalVision 3 dimension\", 4);\n",
      "INSERT INTO Tagline (movie_id, tagline_text, tagline_id) VALUES (\"tt0045888\", \"UNLIKE ANYTHING YOU'VE SEEN BEFORE! (original print ad - all caps)\", 5);\n"
     ]
    }
   ],
   "source": [
    "print( DetailedSQLExport( detailed_collection))"
   ]
  }
 ],
 "metadata": {
  "kernelspec": {
   "display_name": "Python 3",
   "language": "python",
   "name": "python3"
  },
  "language_info": {
   "codemirror_mode": {
    "name": "ipython",
    "version": 3
   },
   "file_extension": ".py",
   "mimetype": "text/x-python",
   "name": "python",
   "nbconvert_exporter": "python",
   "pygments_lexer": "ipython3",
   "version": "3.8.5"
  }
 },
 "nbformat": 4,
 "nbformat_minor": 4
}
