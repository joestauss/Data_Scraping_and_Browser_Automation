{
 "cells": [
  {
   "cell_type": "code",
   "execution_count": 1,
   "metadata": {},
   "outputs": [
    {
     "name": "stdout",
     "output_type": "stream",
     "text": [
      "=============================\n",
      "||                         ||\n",
      "||     Film Collection     ||\n",
      "||                         ||\n",
      "=============================\n",
      "tt0045888 : House of Wax (1953)\n",
      "tt0051622 : The Fly (1958)\n",
      "tt0058333 : The Masque of the Red Death (1964)\n"
     ]
    }
   ],
   "source": [
    "from filmsets import *\n",
    "from FilmCollection import ExpandableFilmCollection\n",
    "\n",
    "coll = ExpandableFilmCollection( TestSet.VincentPrice.small)\n",
    "print(coll)"
   ]
  },
  {
   "cell_type": "code",
   "execution_count": 2,
   "metadata": {},
   "outputs": [
    {
     "name": "stdout",
     "output_type": "stream",
     "text": [
      "From 30 films, there were 30 recommendations, of which 27 are new.\n",
      "=============================\n",
      "||                         ||\n",
      "||     Film Collection     ||\n",
      "||                         ||\n",
      "=============================\n",
      "tt0024368 : Mystery of the Wax Museum (1933)\n",
      "tt0044121 : The Thing from Another World (1951)\n",
      "tt0043456 : The Day the Earth Stood Still (1951)\n",
      "tt0045888 : House of Wax (1953)\n",
      "tt0046876 : Creature from the Black Lagoon (1954)\n",
      "tt0047573 : Them! (1954)\n",
      "tt0049366 : Invasion of the Body Snatchers (1956)\n",
      "tt0051622 : The Fly (1958)\n",
      "tt0051418 : The Blob (1958)\n",
      "tt0051744 : House on Haunted Hill (1959)\n",
      "tt0053363 : The Tingler (1959)\n",
      "tt0053219 : Return of the Fly (1959)\n",
      "tt0053925 : House of Usher (1960)\n",
      "tt0055304 : Pit and the Pendulum (1961)\n",
      "tt0056552 : Tales of Terror (1962)\n",
      "tt0056368 : Premature Burial (1962)\n",
      "tt0057449 : The Raven (1963)\n",
      "tt0057129 : The Haunting (1963)\n",
      "tt0056943 : The Comedy of Terrors (1963)\n",
      "tt0057128 : The Haunted Palace (1963)\n",
      "tt0058333 : The Masque of the Red Death (1964)\n",
      "tt0058700 : The Last Man on Earth (1964)\n",
      "tt0059821 : The Tomb of Ligeia (1964)\n",
      "tt0059076 : Curse of the Fly (1965)\n",
      "tt0063285 : Witchfinder General (1968)\n",
      "tt0064747 : The Oblong Box (1969)\n",
      "tt0066740 : The Abominable Dr. Phibes (1971)\n",
      "tt0070791 : Theater of Blood (1973)\n",
      "tt0091064 : The Fly (1986)\n",
      "tt0097368 : The Fly II (1989)\n"
     ]
    }
   ],
   "source": [
    "coll.full_recommendation_expansion()\n",
    "print(coll)"
   ]
  },
  {
   "cell_type": "code",
   "execution_count": 3,
   "metadata": {
    "scrolled": true
   },
   "outputs": [
    {
     "name": "stdout",
     "output_type": "stream",
     "text": [
      "From 125 films, there were 125 recommendations, of which 95 are new.\n",
      "=============================\n",
      "||                         ||\n",
      "||     Film Collection     ||\n",
      "||                         ||\n",
      "=============================\n",
      "tt0021814 : Dracula (1931)\n",
      "tt0021884 : Frankenstein (1931)\n",
      "tt0023194 : The Mask of Fu Manchu (1932)\n",
      "tt0023694 : White Zombie (1932)\n",
      "tt0023238 : The Most Dangerous Game (1932)\n",
      "tt0022827 : Doctor X (1932)\n",
      "tt0023245 : The Mummy (1932)\n",
      "tt0024188 : Island of Lost Souls (1932)\n",
      "tt0024727 : The Vampire Bat (1933)\n",
      "tt0024368 : Mystery of the Wax Museum (1933)\n",
      "tt0024184 : The Invisible Man (1933)\n",
      "tt0024216 : King Kong (1933)\n",
      "tt0026663 : Mad Love (1935)\n",
      "tt0026138 : The Bride of Frankenstein (1935)\n",
      "tt0027521 : The Devil-Doll (1936)\n",
      "tt0028478 : The Walking Dead (1936)\n",
      "tt0031851 : The Return of Doctor X (1939)\n",
      "tt0033397 : The Black Cat (1941)\n",
      "tt0034398 : The Wolf Man (1941)\n",
      "tt0034587 : Cat People (1942)\n",
      "tt0036261 : Phantom of the Opera (1943)\n",
      "tt0036341 : The Seventh Victim (1943)\n",
      "tt0037635 : Dead of Night (1945)\n",
      "tt0043456 : The Day the Earth Stood Still (1951)\n",
      "tt0044121 : The Thing from Another World (1951)\n",
      "tt0044207 : When Worlds Collide (1951)\n",
      "tt0045920 : It Came from Outer Space (1953)\n",
      "tt0045546 : The Beast from 20,000 Fathoms (1953)\n",
      "tt0046534 : The War of the Worlds (1953)\n",
      "tt0045888 : House of Wax (1953)\n",
      "tt0046876 : Creature from the Black Lagoon (1954)\n",
      "tt0047200 : The Mad Magician (1954)\n",
      "tt0047573 : Them! (1954)\n",
      "tt0048696 : Tarantula (1955)\n",
      "tt0048554 : Revenge of the Creature (1955)\n",
      "tt0048215 : It Came from Beneath the Sea (1955)\n",
      "tt0049223 : Forbidden Planet (1956)\n",
      "tt0049103 : The Creature Walks Among Us (1956)\n",
      "tt0049366 : Invasion of the Body Snatchers (1956)\n",
      "tt0050539 : The Incredible Shrinking Man (1957)\n",
      "tt0051418 : The Blob (1958)\n",
      "tt0051622 : The Fly (1958)\n",
      "tt0052602 : The Bat (1959)\n",
      "tt0051744 : House on Haunted Hill (1959)\n",
      "tt0053363 : The Tingler (1959)\n",
      "tt0052655 : A Bucket of Blood (1959)\n",
      "tt0053219 : Return of the Fly (1959)\n",
      "tt0054387 : The Time Machine (1960)\n",
      "tt0054167 : Peeping Tom (1960)\n",
      "tt0053925 : House of Usher (1960)\n",
      "tt0054443 : Village of the Damned (1960)\n",
      "tt0053459 : Les yeux sans visage (1960)\n",
      "tt0053559 : 13 Ghosts (1960)\n",
      "tt0055304 : Pit and the Pendulum (1961)\n",
      "tt0055200 : Mr. Sardonicus (1961)\n",
      "tt0054777 : The Curse of the Werewolf (1961)\n",
      "tt0055018 : The Innocents (1961)\n",
      "tt0054988 : Homicidal (1961)\n",
      "tt0056552 : Tales of Terror (1962)\n",
      "tt0055830 : Carnival of Souls (1962)\n",
      "tt0056606 : Tower of London (1962)\n",
      "tt0056725 : Zotz! (1962)\n",
      "tt0056279 : Burn, Witch, Burn (1962)\n",
      "tt0056368 : Premature Burial (1962)\n",
      "tt0057129 : The Haunting (1963)\n",
      "tt0056943 : The Comedy of Terrors (1963)\n",
      "tt0056993 : Diary of a Madman (1963)\n",
      "tt0057128 : The Haunted Palace (1963)\n",
      "tt0057608 : Twice-Told Tales (1963)\n",
      "tt0057449 : The Raven (1963)\n",
      "tt0057693 : X: The Man with the X-Ray Eyes (1963)\n",
      "tt0058753 : Witchcraft (1964)\n",
      "tt0058333 : The Masque of the Red Death (1964)\n",
      "tt0058620 : Strait-Jacket (1964)\n",
      "tt0059821 : The Tomb of Ligeia (1964)\n",
      "tt0057986 : The Curse of the Mummy's Tomb (1964)\n",
      "tt0058050 : The Earth Dies Screaming (1964)\n",
      "tt0058700 : The Last Man on Earth (1964)\n",
      "tt0059076 : Curse of the Fly (1965)\n",
      "tt0059504 : Blood Beast from Outer Space (1965)\n",
      "tt0060877 : Queen of Blood (1966)\n",
      "tt0062292 : The Sorcerers (1967)\n",
      "tt0063285 : Witchfinder General (1968)\n",
      "tt0062885 : The Devil Rides Out (1968)\n",
      "tt0064747 : The Oblong Box (1969)\n",
      "tt0065597 : Cry of the Banshee (1970)\n",
      "tt0065669 : The Dunwich Horror (1970)\n",
      "tt0064949 : Scream and Scream Again (1970)\n",
      "tt0066518 : The Vampire Lovers (1970)\n",
      "tt0067525 : The Omega Man (1971)\n",
      "tt0066740 : The Abominable Dr. Phibes (1971)\n",
      "tt0066769 : The Andromeda Strain (1971)\n",
      "tt0067341 : Let's Scare Jessica to Death (1971)\n",
      "tt0066849 : The Blood on Satan's Claw (1971)\n",
      "tt0068503 : Dr. Phibes Rises Again (1972)\n",
      "tt0068505 : Dracula A.D. 1972 (1972)\n",
      "tt0070791 : Theater of Blood (1973)\n",
      "tt0069995 : Don't Look Now (1973)\n",
      "tt0070917 : The Wicker Man (1973)\n",
      "tt0071790 : Madhouse (1974)\n",
      "tt0077745 : Invasion of the Body Snatchers (1978)\n",
      "tt0080516 : The Changeling (1980)\n",
      "tt0081455 : Scanners (1981)\n",
      "tt0082010 : An American Werewolf in London (1981)\n",
      "tt0084516 : Poltergeist (1982)\n",
      "tt0084787 : The Thing (1982)\n",
      "tt0085407 : The Dead Zone (1983)\n",
      "tt0086541 : Videodrome (1983)\n",
      "tt0089885 : Re-Animator (1985)\n",
      "tt0091064 : The Fly (1986)\n",
      "tt0090887 : Critters (1986)\n",
      "tt0094964 : Dead Ringers (1988)\n",
      "tt0094761 : The Blob (1988)\n",
      "tt0095294 : Hellbound: Hellraiser II (1988)\n",
      "tt0094919 : Critters 2 (1988)\n",
      "tt0097368 : The Fly II (1989)\n",
      "tt0099180 : Bride of Re-Animator (1990)\n",
      "tt0102511 : Naked Lunch (1991)\n",
      "tt0106452 : Body Snatchers (1993)\n",
      "tt0115964 : Crash (1996)\n",
      "tt0185371 : House on Haunted Hill (1999)\n",
      "tt0120907 : eXistenZ (1999)\n",
      "tt0399146 : A History of Violence (2005)\n",
      "tt0970416 : The Day the Earth Stood Still (2008)\n",
      "tt0905372 : The Thing (2011)\n"
     ]
    }
   ],
   "source": [
    "coll.full_recommendation_expansion()\n",
    "print(coll)"
   ]
  },
  {
   "cell_type": "code",
   "execution_count": 4,
   "metadata": {},
   "outputs": [
    {
     "name": "stdout",
     "output_type": "stream",
     "text": [
      "From 497 films, there were 497 recommendations, of which 372 are new.\n"
     ]
    }
   ],
   "source": [
    "coll.full_recommendation_expansion()"
   ]
  }
 ],
 "metadata": {
  "kernelspec": {
   "display_name": "Python 3",
   "language": "python",
   "name": "python3"
  },
  "language_info": {
   "codemirror_mode": {
    "name": "ipython",
    "version": 3
   },
   "file_extension": ".py",
   "mimetype": "text/x-python",
   "name": "python",
   "nbconvert_exporter": "python",
   "pygments_lexer": "ipython3",
   "version": "3.8.5"
  }
 },
 "nbformat": 4,
 "nbformat_minor": 4
}
