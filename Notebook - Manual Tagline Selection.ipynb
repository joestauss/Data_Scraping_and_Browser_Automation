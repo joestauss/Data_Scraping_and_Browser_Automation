{
 "cells": [
  {
   "cell_type": "code",
   "execution_count": 1,
   "metadata": {},
   "outputs": [
    {
     "name": "stdout",
     "output_type": "stream",
     "text": [
      "=============================\n",
      "||                         ||\n",
      "||     Film Collection     ||\n",
      "||                         ||\n",
      "=============================\n",
      "tt0859635 : Super Troopers 2 (2018)\n"
     ]
    }
   ],
   "source": [
    "from FilmCollection import *\n",
    "from filmsets import *\n",
    "\n",
    "collection = TaglineFilmCollection( TestSet.tiny)\n",
    "collection.identify_all()\n",
    "print( collection)"
   ]
  },
  {
   "cell_type": "code",
   "execution_count": 2,
   "metadata": {},
   "outputs": [
    {
     "name": "stdout",
     "output_type": "stream",
     "text": [
      "Please enter the number of the tagline(s) you would like, separated by a comma.\n",
      "0:   The time is meow.\n",
      "1:   The Mustache Rides, Again.\n",
      "2:   Don't Miss It!\n",
      ">>> 0, 1, 45\n",
      "User wants 0, 1, 45.  This corresponds to the following taglines:\n",
      "\tThe time is meow.\n",
      "\tThe Mustache Rides, Again.\n",
      "\t45 was not a valid choice.\n"
     ]
    }
   ],
   "source": [
    "collection.manual_tagline_selection()"
   ]
  },
  {
   "cell_type": "code",
   "execution_count": 3,
   "metadata": {},
   "outputs": [
    {
     "name": "stdout",
     "output_type": "stream",
     "text": [
      "=============================\n",
      "||                         ||\n",
      "||     Film Collection     ||\n",
      "||                         ||\n",
      "=============================\n",
      "tt0859635 : Super Troopers 2 (2018; 2 taglines)\n"
     ]
    }
   ],
   "source": [
    "print( collection)"
   ]
  }
 ],
 "metadata": {
  "kernelspec": {
   "display_name": "Python 3",
   "language": "python",
   "name": "python3"
  },
  "language_info": {
   "codemirror_mode": {
    "name": "ipython",
    "version": 3
   },
   "file_extension": ".py",
   "mimetype": "text/x-python",
   "name": "python",
   "nbconvert_exporter": "python",
   "pygments_lexer": "ipython3",
   "version": "3.8.5"
  }
 },
 "nbformat": 4,
 "nbformat_minor": 4
}
