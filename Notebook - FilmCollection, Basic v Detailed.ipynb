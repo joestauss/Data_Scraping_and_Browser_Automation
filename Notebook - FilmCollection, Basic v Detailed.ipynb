{
 "cells": [
  {
   "cell_type": "code",
   "execution_count": 1,
   "metadata": {},
   "outputs": [
    {
     "name": "stdout",
     "output_type": "stream",
     "text": [
      "=============================\n",
      "||                         ||\n",
      "||     Film Collection     ||\n",
      "||                         ||\n",
      "=============================\n",
      "tt0045888\n",
      "tt0058333\n",
      "tt0051622\n"
     ]
    }
   ],
   "source": [
    "from filmsets import *\n",
    "from FilmCollectionExport import *\n",
    "\n",
    "filmset = TestSet.VincentPrice.small\n",
    "\n",
    "basic_collection    = BaseFilmCollection( filmset)\n",
    "print( basic_collection )"
   ]
  },
  {
   "cell_type": "code",
   "execution_count": 2,
   "metadata": {},
   "outputs": [
    {
     "name": "stdout",
     "output_type": "stream",
     "text": [
      "Adding record 1 of 3:\ttt0045888\n",
      "Adding record 2 of 3:\ttt0051622\n",
      "Adding record 3 of 3:\ttt0058333\n"
     ]
    }
   ],
   "source": [
    "detailed_collection = DetailedFilmCollection( filmset, VERBOSE = True)"
   ]
  },
  {
   "cell_type": "code",
   "execution_count": 3,
   "metadata": {},
   "outputs": [
    {
     "name": "stdout",
     "output_type": "stream",
     "text": [
      "Creating thread 1.\n",
      "Creating thread 2.\n",
      "Creating thread 3.\n",
      "Waiting for 3 threads..\n",
      "Waiting for 2 threads..\n",
      "Waiting for 1 threads..\n",
      "=============================\n",
      "||                         ||\n",
      "||     Film Collection     ||\n",
      "||                         ||\n",
      "=============================\n",
      "tt0045888 : House of Wax (1953; 2 production companies; 2 taglines; detailed record)\n",
      "tt0051622 : The Fly (1958; 2 production companies; 2 taglines; detailed record)\n",
      "tt0058333 : The Masque of the Red Death (1964; 1 production companies; 2 taglines; detailed record)\n"
     ]
    }
   ],
   "source": [
    "detailed_collection.scrape_all()\n",
    "print(  detailed_collection )"
   ]
  },
  {
   "cell_type": "code",
   "execution_count": 4,
   "metadata": {},
   "outputs": [
    {
     "name": "stdout",
     "output_type": "stream",
     "text": [
      "INSERT INTO Movie (movie_id, movie_title, movie_year, movie_budget, movie_boxoffice, movie_runtime) VALUES (\"tt0045888\", \"House of Wax\", 1953, 1000000, 23750000, 88);\n",
      "INSERT INTO Movie (movie_id, movie_title, movie_year, movie_budget, movie_boxoffice, movie_runtime) VALUES (\"tt0058333\", \"The Masque of the Red Death\", 1964, Null, Null, 89);\n",
      "INSERT INTO Movie (movie_id, movie_title, movie_year, movie_budget, movie_boxoffice, movie_runtime) VALUES (\"tt0051622\", \"The Fly\", 1958, 700000, 1501, 94);\n",
      "\n",
      "INSERT INTO Person (person_id, person_name) VALUES (0, \"Charles Belden\");\n",
      "INSERT INTO Person (person_id, person_name) VALUES (1, \"Crane Wilbur\");\n",
      "INSERT INTO Person (person_id, person_name) VALUES (2, \"Phyllis Kirk\");\n",
      "INSERT INTO Person (person_id, person_name) VALUES (3, \"Frank Lovejoy\");\n",
      "INSERT INTO Person (person_id, person_name) VALUES (4, \"Vincent Price\");\n",
      "INSERT INTO Person (person_id, person_name) VALUES (5, \"André De Toth\");\n",
      "INSERT INTO Person (person_id, person_name) VALUES (6, \"R. Wright Campbell\");\n",
      "INSERT INTO Person (person_id, person_name) VALUES (7, \"Charles Beaumont\");\n",
      "INSERT INTO Person (person_id, person_name) VALUES (8, \"Jane Asher\");\n",
      "INSERT INTO Person (person_id, person_name) VALUES (9, \"Hazel Court\");\n",
      "INSERT INTO Person (person_id, person_name) VALUES (10, \"Roger Corman\");\n",
      "INSERT INTO Person (person_id, person_name) VALUES (11, \"James Clavell\");\n",
      "INSERT INTO Person (person_id, person_name) VALUES (12, \"George Langelaan\");\n",
      "INSERT INTO Person (person_id, person_name) VALUES (13, \"Patricia Owens\");\n",
      "INSERT INTO Person (person_id, person_name) VALUES (14, \"David Hedison\");\n",
      "INSERT INTO Person (person_id, person_name) VALUES (15, \"Kurt Neumann\");\n",
      "\n",
      "INSERT INTO RoleCode (role_name, role_code) VALUES (\"Director\", 0);\n",
      "INSERT INTO RoleCode (role_name, role_code) VALUES (\"Writer\", 1);\n",
      "INSERT INTO RoleCode (role_name, role_code) VALUES (\"Actor\", 2);\n",
      "\n",
      "INSERT INTO Role (movie_id, role_code, person_id) VALUES (\"tt0045888\", 0, 0);\n",
      "INSERT INTO Role (movie_id, role_code, person_id) VALUES (\"tt0045888\", 0, 1);\n",
      "INSERT INTO Role (movie_id, role_code, person_id) VALUES (\"tt0045888\", 1, 2);\n",
      "INSERT INTO Role (movie_id, role_code, person_id) VALUES (\"tt0045888\", 1, 3);\n",
      "INSERT INTO Role (movie_id, role_code, person_id) VALUES (\"tt0045888\", 1, 4);\n",
      "INSERT INTO Role (movie_id, role_code, person_id) VALUES (\"tt0045888\", 2, 5);\n",
      "INSERT INTO Role (movie_id, role_code, person_id) VALUES (\"tt0058333\", 0, 6);\n",
      "INSERT INTO Role (movie_id, role_code, person_id) VALUES (\"tt0058333\", 0, 7);\n",
      "INSERT INTO Role (movie_id, role_code, person_id) VALUES (\"tt0058333\", 1, 8);\n",
      "INSERT INTO Role (movie_id, role_code, person_id) VALUES (\"tt0058333\", 1, 4);\n",
      "INSERT INTO Role (movie_id, role_code, person_id) VALUES (\"tt0058333\", 1, 9);\n",
      "INSERT INTO Role (movie_id, role_code, person_id) VALUES (\"tt0058333\", 2, 10);\n",
      "INSERT INTO Role (movie_id, role_code, person_id) VALUES (\"tt0051622\", 0, 11);\n",
      "INSERT INTO Role (movie_id, role_code, person_id) VALUES (\"tt0051622\", 0, 12);\n",
      "INSERT INTO Role (movie_id, role_code, person_id) VALUES (\"tt0051622\", 1, 13);\n",
      "INSERT INTO Role (movie_id, role_code, person_id) VALUES (\"tt0051622\", 1, 4);\n",
      "INSERT INTO Role (movie_id, role_code, person_id) VALUES (\"tt0051622\", 1, 14);\n",
      "INSERT INTO Role (movie_id, role_code, person_id) VALUES (\"tt0051622\", 2, 15);\n",
      "\n",
      "INSERT INTO Genre (genre_id, genre_name) VALUES (0, \"Horror\");\n",
      "INSERT INTO Genre (genre_id, genre_name) VALUES (1, \"Drama\");\n",
      "INSERT INTO Genre (genre_id, genre_name) VALUES (2, \"Sci-Fi\");\n",
      "\n",
      "INSERT INTO MovieGenre (movie_id, genre_id) VALUES (\"tt0045888\", 0);\n",
      "INSERT INTO MovieGenre (movie_id, genre_id) VALUES (\"tt0058333\", 0);\n",
      "INSERT INTO MovieGenre (movie_id, genre_id) VALUES (\"tt0051622\", 0);\n",
      "INSERT INTO MovieGenre (movie_id, genre_id) VALUES (\"tt0051622\", 1);\n",
      "INSERT INTO MovieGenre (movie_id, genre_id) VALUES (\"tt0051622\", 2);\n",
      "\n",
      "INSERT INTO Production (production_id, production_name) VALUES (0, \"Warner Bros.\");\n",
      "INSERT INTO Production (production_id, production_name) VALUES (1, \"Bryan Foy Productions\");\n",
      "INSERT INTO Production (production_id, production_name) VALUES (2, \"Alta Vista Productions\");\n",
      "INSERT INTO Production (production_id, production_name) VALUES (3, \"Twentieth Century Fox\");\n",
      "INSERT INTO Production (production_id, production_name) VALUES (4, \"Regal Films\");\n",
      "\n",
      "INSERT INTO MovieProduction (movie_id, production_id) VALUES (\"tt0045888\", 0);\n",
      "INSERT INTO MovieProduction (movie_id, production_id) VALUES (\"tt0045888\", 1);\n",
      "INSERT INTO MovieProduction (movie_id, production_id) VALUES (\"tt0058333\", 2);\n",
      "INSERT INTO MovieProduction (movie_id, production_id) VALUES (\"tt0051622\", 3);\n",
      "INSERT INTO MovieProduction (movie_id, production_id) VALUES (\"tt0051622\", 4);\n",
      "\n",
      "INSERT INTO Tagline (movie_id, tagline_text, tagline_id) VALUES (\"tt0045888\", \"Nothing that has gone before can compare with this!\", 0);\n",
      "INSERT INTO Tagline (movie_id, tagline_text, tagline_id) VALUES (\"tt0045888\", \"Warner Bros. bring you the first feature produced by a major studio in 3D...\", 1);\n",
      "INSERT INTO Tagline (movie_id, tagline_text, tagline_id) VALUES (\"tt0058333\", \"Horror has a face.\", 2);\n",
      "INSERT INTO Tagline (movie_id, tagline_text, tagline_id) VALUES (\"tt0058333\", \"LOOK INTO THIS FACE - SHUDDER... at the blood-stained dance of the Red Death! TREMBLE... to the hideous tortures of the catacombs of Kali! GASP... at the sacrifice of the innocent virgin to the ven...\", 3);\n",
      "INSERT INTO Tagline (movie_id, tagline_text, tagline_id) VALUES (\"tt0051622\", \"She had to kill the thing her husband had become -- But could she?\", 4);\n",
      "INSERT INTO Tagline (movie_id, tagline_text, tagline_id) VALUES (\"tt0051622\", \"For your own good we urge you not to see it alone!\", 5);\n"
     ]
    }
   ],
   "source": [
    "print( DetailedSQLExport( detailed_collection))"
   ]
  }
 ],
 "metadata": {
  "kernelspec": {
   "display_name": "Python 3",
   "language": "python",
   "name": "python3"
  },
  "language_info": {
   "codemirror_mode": {
    "name": "ipython",
    "version": 3
   },
   "file_extension": ".py",
   "mimetype": "text/x-python",
   "name": "python",
   "nbconvert_exporter": "python",
   "pygments_lexer": "ipython3",
   "version": "3.8.5"
  }
 },
 "nbformat": 4,
 "nbformat_minor": 4
}
