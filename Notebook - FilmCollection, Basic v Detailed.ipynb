{
 "cells": [
  {
   "cell_type": "code",
   "execution_count": 1,
   "metadata": {},
   "outputs": [],
   "source": [
    "from filmsets import *\n",
    "from FilmCollectionExport import *\n",
    "\n",
    "filmset = TestSet.VincentPrice.small\n",
    "\n",
    "basic_collection    = BaseFilmCollection( filmset)\n",
    "print( basic_collection )"
   ]
  },
  {
   "cell_type": "code",
   "execution_count": 2,
   "metadata": {},
   "outputs": [],
   "source": [
    "detailed_collection = DetailedFilmCollection( filmset, VERBOSE = True)"
   ]
  },
  {
   "cell_type": "code",
   "execution_count": 3,
   "metadata": {},
   "outputs": [
    {
     "name": "stdout",
     "output_type": "stream",
     "text": [
      "Waiting for 2 threads..\n",
      "Waiting for 1 threads..\n",
      "=============================\n",
      "||                         ||\n",
      "||     Film Collection     ||\n",
      "||                         ||\n",
      "=============================\n",
      "tt0045888 : House of Wax (1953; 2 production companies; 2 taglines; detailed record)\n",
      "tt0051622 : The Fly (1958; 2 production companies; 2 taglines; detailed record)\n",
      "tt0058333 : The Masque of the Red Death (1964; 1 production companies; 2 taglines; detailed record)\n"
     ]
    }
   ],
   "source": [
    "detailed_collection.scrape_all()\n",
    "print(  detailed_collection )"
   ]
  },
  {
   "cell_type": "code",
   "execution_count": 4,
   "metadata": {},
   "outputs": [
    {
     "name": "stdout",
     "output_type": "stream",
     "text": [
      "INSERT INTO Movie (movie_id, movie_title, movie_year, movie_budget, movie_boxoffice, movie_runtime) VALUES (\"tt0051622\", \"The Fly\", 1958, 700000, 1501, 94);\n",
      "INSERT INTO Movie (movie_id, movie_title, movie_year, movie_budget, movie_boxoffice, movie_runtime) VALUES (\"tt0058333\", \"The Masque of the Red Death\", 1964, Null, Null, 89);\n",
      "INSERT INTO Movie (movie_id, movie_title, movie_year, movie_budget, movie_boxoffice, movie_runtime) VALUES (\"tt0045888\", \"House of Wax\", 1953, 1000000, 23750000, 88);\n",
      "\n",
      "INSERT INTO Person (person_id, person_name) VALUES (0, \"James Clavell\");\n",
      "INSERT INTO Person (person_id, person_name) VALUES (1, \"George Langelaan\");\n",
      "INSERT INTO Person (person_id, person_name) VALUES (2, \"Kurt Neumann\");\n",
      "INSERT INTO Person (person_id, person_name) VALUES (3, \"Charles Beaumont\");\n",
      "INSERT INTO Person (person_id, person_name) VALUES (4, \"R. Wright Campbell\");\n",
      "INSERT INTO Person (person_id, person_name) VALUES (5, \"Roger Corman\");\n",
      "INSERT INTO Person (person_id, person_name) VALUES (6, \"Crane Wilbur\");\n",
      "INSERT INTO Person (person_id, person_name) VALUES (7, \"Charles Belden\");\n",
      "INSERT INTO Person (person_id, person_name) VALUES (8, \"André De Toth\");\n",
      "\n",
      "INSERT INTO RoleCode (role_name, role_code) VALUES (\"Director\", 0);\n",
      "INSERT INTO RoleCode (role_name, role_code) VALUES (\"Writer\", 1);\n",
      "INSERT INTO RoleCode (role_name, role_code) VALUES (\"Actor\", 2);\n",
      "\n",
      "INSERT INTO Role (movie_id, role_code, person_id) VALUES (\"tt0051622\", 0, 0);\n",
      "INSERT INTO Role (movie_id, role_code, person_id) VALUES (\"tt0051622\", 0, 1);\n",
      "INSERT INTO Role (movie_id, role_code, person_id) VALUES (\"tt0051622\", 2, 2);\n",
      "INSERT INTO Role (movie_id, role_code, person_id) VALUES (\"tt0058333\", 0, 3);\n",
      "INSERT INTO Role (movie_id, role_code, person_id) VALUES (\"tt0058333\", 0, 4);\n",
      "INSERT INTO Role (movie_id, role_code, person_id) VALUES (\"tt0058333\", 2, 5);\n",
      "INSERT INTO Role (movie_id, role_code, person_id) VALUES (\"tt0045888\", 0, 6);\n",
      "INSERT INTO Role (movie_id, role_code, person_id) VALUES (\"tt0045888\", 0, 7);\n",
      "INSERT INTO Role (movie_id, role_code, person_id) VALUES (\"tt0045888\", 2, 8);\n",
      "\n",
      "INSERT INTO Genre (genre_id, genre_name) VALUES (0, \"Sci-Fi\");\n",
      "INSERT INTO Genre (genre_id, genre_name) VALUES (1, \"Horror\");\n",
      "INSERT INTO Genre (genre_id, genre_name) VALUES (2, \"Drama\");\n",
      "\n",
      "INSERT INTO MovieGenre (movie_id, genre_id) VALUES (\"tt0051622\", 0);\n",
      "INSERT INTO MovieGenre (movie_id, genre_id) VALUES (\"tt0051622\", 1);\n",
      "INSERT INTO MovieGenre (movie_id, genre_id) VALUES (\"tt0051622\", 2);\n",
      "INSERT INTO MovieGenre (movie_id, genre_id) VALUES (\"tt0058333\", 1);\n",
      "INSERT INTO MovieGenre (movie_id, genre_id) VALUES (\"tt0045888\", 1);\n",
      "\n",
      "INSERT INTO Production (production_id, production_name) VALUES (0, \"Twentieth Century Fox\");\n",
      "INSERT INTO Production (production_id, production_name) VALUES (1, \"Regal Films\");\n",
      "INSERT INTO Production (production_id, production_name) VALUES (2, \"Alta Vista Productions\");\n",
      "INSERT INTO Production (production_id, production_name) VALUES (3, \"Warner Bros.\");\n",
      "INSERT INTO Production (production_id, production_name) VALUES (4, \"Bryan Foy Productions\");\n",
      "\n",
      "INSERT INTO MovieProduction (movie_id, production_id) VALUES (\"tt0051622\", 0);\n",
      "INSERT INTO MovieProduction (movie_id, production_id) VALUES (\"tt0051622\", 1);\n",
      "INSERT INTO MovieProduction (movie_id, production_id) VALUES (\"tt0058333\", 2);\n",
      "INSERT INTO MovieProduction (movie_id, production_id) VALUES (\"tt0045888\", 3);\n",
      "INSERT INTO MovieProduction (movie_id, production_id) VALUES (\"tt0045888\", 4);\n",
      "\n",
      "INSERT INTO Tagline (movie_id, tagline_text, tagline_id) VALUES (\"tt0051622\", \"If she looked upon the horror her husband had become... she would scream for the rest of her life!\", 0);\n",
      "INSERT INTO Tagline (movie_id, tagline_text, tagline_id) VALUES (\"tt0051622\", \"For your own good we urge you not to see it alone!\", 1);\n",
      "INSERT INTO Tagline (movie_id, tagline_text, tagline_id) VALUES (\"tt0058333\", \"We defy you to stare into this face.\", 2);\n",
      "INSERT INTO Tagline (movie_id, tagline_text, tagline_id) VALUES (\"tt0058333\", \"Horror has a face.\", 3);\n",
      "INSERT INTO Tagline (movie_id, tagline_text, tagline_id) VALUES (\"tt0045888\", \"Now Warners Bros bring you 3 dimension natural vision unlike anything you've seen before!  A feature picture!  A story sensation!\", 4);\n",
      "INSERT INTO Tagline (movie_id, tagline_text, tagline_id) VALUES (\"tt0045888\", \"Nothing that has gone before can compare with this!\", 5);\n"
     ]
    }
   ],
   "source": [
    "print( DetailedSQLExport( detailed_collection))"
   ]
  }
 ],
 "metadata": {
  "kernelspec": {
   "display_name": "Python 3",
   "language": "python",
   "name": "python3"
  },
  "language_info": {
   "codemirror_mode": {
    "name": "ipython",
    "version": 3
   },
   "file_extension": ".py",
   "mimetype": "text/x-python",
   "name": "python",
   "nbconvert_exporter": "python",
   "pygments_lexer": "ipython3",
   "version": "3.8.5"
  }
 },
 "nbformat": 4,
 "nbformat_minor": 4
}
