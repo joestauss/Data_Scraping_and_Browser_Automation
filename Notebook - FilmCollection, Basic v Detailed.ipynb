{
 "cells": [
  {
   "cell_type": "code",
   "execution_count": 1,
   "metadata": {},
   "outputs": [
    {
     "name": "stdout",
     "output_type": "stream",
     "text": [
      "=============================\n",
      "||                         ||\n",
      "||     Film Collection     ||\n",
      "||                         ||\n",
      "=============================\n",
      "tt0058333\n",
      "tt0045888\n",
      "tt0051622\n"
     ]
    }
   ],
   "source": [
    "from filmsets import *\n",
    "from FilmCollectionExport import *\n",
    "\n",
    "filmset = TestSet.VincentPrice.small\n",
    "\n",
    "basic_collection    = BaseFilmCollection( filmset)\n",
    "print( basic_collection )"
   ]
  },
  {
   "cell_type": "code",
   "execution_count": 3,
   "metadata": {},
   "outputs": [
    {
     "name": "stdout",
     "output_type": "stream",
     "text": [
      "Adding record 1 of 3:\ttt0045888\n",
      "Adding record 2 of 3:\ttt0051622\n",
      "Adding record 3 of 3:\ttt0058333\n"
     ]
    }
   ],
   "source": [
    "detailed_collection = DetailedFilmCollection( filmset, VERBOSE = True)"
   ]
  },
  {
   "cell_type": "code",
   "execution_count": 4,
   "metadata": {},
   "outputs": [
    {
     "name": "stdout",
     "output_type": "stream",
     "text": [
      "=============================\n",
      "||                         ||\n",
      "||     Film Collection     ||\n",
      "||                         ||\n",
      "=============================\n",
      "tt0045888 : House of Wax (1953; 2 production companies; 2 taglines; detailed record)\n",
      "tt0051622 : The Fly (1958; 2 production companies; 2 taglines; detailed record)\n",
      "tt0058333 : The Masque of the Red Death (1964; 1 production companies; 2 taglines; detailed record)\n"
     ]
    }
   ],
   "source": [
    "print(  detailed_collection )"
   ]
  },
  {
   "cell_type": "code",
   "execution_count": 5,
   "metadata": {},
   "outputs": [
    {
     "name": "stdout",
     "output_type": "stream",
     "text": [
      "INSERT INTO Movie (movie_id, movie_title, movie_year, movie_budget, movie_boxoffice, movie_runtime) VALUES (\"tt0058333\", \"The Masque of the Red Death\", 1964, Null, Null, 89);\n",
      "INSERT INTO Movie (movie_id, movie_title, movie_year, movie_budget, movie_boxoffice, movie_runtime) VALUES (\"tt0045888\", \"House of Wax\", 1953, 1000000, 23750000, 88);\n",
      "INSERT INTO Movie (movie_id, movie_title, movie_year, movie_budget, movie_boxoffice, movie_runtime) VALUES (\"tt0051622\", \"The Fly\", 1958, 700000, 1501, 94);\n",
      "\n",
      "INSERT INTO Person (person_name, person_id) VALUES (0, \"R. Wright Campbell\");\n",
      "INSERT INTO Person (person_name, person_id) VALUES (1, \"Charles Beaumont\");\n",
      "INSERT INTO Person (person_name, person_id) VALUES (2, \"Roger Corman\");\n",
      "INSERT INTO Person (person_name, person_id) VALUES (3, \"Charles Belden\");\n",
      "INSERT INTO Person (person_name, person_id) VALUES (4, \"Crane Wilbur\");\n",
      "INSERT INTO Person (person_name, person_id) VALUES (5, \"André De Toth\");\n",
      "INSERT INTO Person (person_name, person_id) VALUES (6, \"George Langelaan\");\n",
      "INSERT INTO Person (person_name, person_id) VALUES (7, \"James Clavell\");\n",
      "INSERT INTO Person (person_name, person_id) VALUES (8, \"Kurt Neumann\");\n",
      "\n",
      "INSERT INTO RoleCode (role_name, role_code) VALUES (\"Director\", 0);\n",
      "INSERT INTO RoleCode (role_name, role_code) VALUES (\"Writer\", 1);\n",
      "INSERT INTO RoleCode (role_name, role_code) VALUES (\"Actor\", 2);\n",
      "\n",
      "INSERT INTO Role (movie_id, role_code, person_id) VALUES (\"tt0058333\", 0, 0);\n",
      "INSERT INTO Role (movie_id, role_code, person_id) VALUES (\"tt0058333\", 0, 1);\n",
      "INSERT INTO Role (movie_id, role_code, person_id) VALUES (\"tt0058333\", 2, 2);\n",
      "INSERT INTO Role (movie_id, role_code, person_id) VALUES (\"tt0045888\", 0, 3);\n",
      "INSERT INTO Role (movie_id, role_code, person_id) VALUES (\"tt0045888\", 0, 4);\n",
      "INSERT INTO Role (movie_id, role_code, person_id) VALUES (\"tt0045888\", 2, 5);\n",
      "INSERT INTO Role (movie_id, role_code, person_id) VALUES (\"tt0051622\", 0, 6);\n",
      "INSERT INTO Role (movie_id, role_code, person_id) VALUES (\"tt0051622\", 0, 7);\n",
      "INSERT INTO Role (movie_id, role_code, person_id) VALUES (\"tt0051622\", 2, 8);\n",
      "\n",
      "INSERT INTO Genre (genre_name, genre_id) VALUES (0, \"Horror\");\n",
      "INSERT INTO Genre (genre_name, genre_id) VALUES (1, \"Drama\");\n",
      "INSERT INTO Genre (genre_name, genre_id) VALUES (2, \"Sci-Fi\");\n",
      "\n",
      "INSERT INTO MovieGenre (movie_id, genre_id) VALUES (\"tt0058333\", 0);\n",
      "INSERT INTO MovieGenre (movie_id, genre_id) VALUES (\"tt0045888\", 0);\n",
      "INSERT INTO MovieGenre (movie_id, genre_id) VALUES (\"tt0051622\", 1);\n",
      "INSERT INTO MovieGenre (movie_id, genre_id) VALUES (\"tt0051622\", 2);\n",
      "INSERT INTO MovieGenre (movie_id, genre_id) VALUES (\"tt0051622\", 0);\n",
      "\n",
      "INSERT INTO Production (production_name, production_id) VALUES (0, \"Alta Vista Productions\");\n",
      "INSERT INTO Production (production_name, production_id) VALUES (1, \"Bryan Foy Productions\");\n",
      "INSERT INTO Production (production_name, production_id) VALUES (2, \"Warner Bros.\");\n",
      "INSERT INTO Production (production_name, production_id) VALUES (3, \"Regal Films\");\n",
      "INSERT INTO Production (production_name, production_id) VALUES (4, \"Twentieth Century Fox\");\n",
      "\n",
      "INSERT INTO MovieProduction (movie_id, production_id) VALUES (\"tt0058333\", 0);\n",
      "INSERT INTO MovieProduction (movie_id, production_id) VALUES (\"tt0045888\", 1);\n",
      "INSERT INTO MovieProduction (movie_id, production_id) VALUES (\"tt0045888\", 2);\n",
      "INSERT INTO MovieProduction (movie_id, production_id) VALUES (\"tt0051622\", 3);\n",
      "INSERT INTO MovieProduction (movie_id, production_id) VALUES (\"tt0051622\", 4);\n",
      "\n",
      "INSERT INTO Tagline (movie_id, tagline_text, tagline_id) VALUES (\"tt0058333\", \"LOOK INTO THIS FACE - SHUDDER... at the blood-stained dance of the Red Death! TREMBLE... to the hideous tortures of the catacombs of Kali! GASP... at the sacrifice of the innocent virgin to the ven...\", 0);\n",
      "INSERT INTO Tagline (movie_id, tagline_text, tagline_id) VALUES (\"tt0058333\", \"Stare into this face and count if you can the orgies of evil....\", 1);\n",
      "INSERT INTO Tagline (movie_id, tagline_text, tagline_id) VALUES (\"tt0045888\", \"Beauty and Terror meet in your seat...as every thrill of its story comes off the screen right at you in NaturalVision 3 dimension\", 2);\n",
      "INSERT INTO Tagline (movie_id, tagline_text, tagline_id) VALUES (\"tt0045888\", \"Nothing that has gone before can compare with this!\", 3);\n",
      "INSERT INTO Tagline (movie_id, tagline_text, tagline_id) VALUES (\"tt0051622\", \"100$ if you prove it can't happen!\", 4);\n",
      "INSERT INTO Tagline (movie_id, tagline_text, tagline_id) VALUES (\"tt0051622\", \"If she looked upon the horror her husband had become... she would scream for the rest of her life!\", 5);\n"
     ]
    }
   ],
   "source": [
    "print( DetailedSQLExport( detailed_collection))"
   ]
  }
 ],
 "metadata": {
  "kernelspec": {
   "display_name": "Python 3",
   "language": "python",
   "name": "python3"
  },
  "language_info": {
   "codemirror_mode": {
    "name": "ipython",
    "version": 3
   },
   "file_extension": ".py",
   "mimetype": "text/x-python",
   "name": "python",
   "nbconvert_exporter": "python",
   "pygments_lexer": "ipython3",
   "version": "3.8.5"
  }
 },
 "nbformat": 4,
 "nbformat_minor": 4
}
