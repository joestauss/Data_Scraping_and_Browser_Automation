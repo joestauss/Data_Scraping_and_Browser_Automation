{
 "cells": [
  {
   "cell_type": "markdown",
   "metadata": {},
   "source": [
    "# FilmRecord\n",
    "\n",
    "* The primary class for encapsulating data related to a film is the FilmRecord.  \n",
    "* There is a base class (_BaseFilmRecord_), as well as several sub-classes for scraping taglines (_TaglineFilmRecord_), production companies (_ProductionFilmRecord_), and more detailed information (_DetailedFilmRecord_).  \n",
    "* A FilmRecord of any type must be created with an IMDB identification code (*imdb_id*).  The *imdb_id* is used to identify a FilmRecord.\n",
    "* Every class has access to two methods: identify(), which finds the films' title and year, and scrape_data(), which extracts all the missing data from IMDB.\n"
   ]
  },
  {
   "cell_type": "code",
   "execution_count": 1,
   "metadata": {},
   "outputs": [
    {
     "name": "stdout",
     "output_type": "stream",
     "text": [
      "tt0056943\n"
     ]
    }
   ],
   "source": [
    "from filmsets import *\n",
    "from FilmRecord import *\n",
    "\n",
    "imdb_ids = TestSet.medium\n",
    "records = []\n",
    "\n",
    "base_class = BaseFilmRecord( imdb_ids[0])\n",
    "print( base_class)"
   ]
  },
  {
   "cell_type": "code",
   "execution_count": 2,
   "metadata": {
    "scrolled": true
   },
   "outputs": [
    {
     "name": "stdout",
     "output_type": "stream",
     "text": [
      "tt0056943 : The Comedy of Terrors (1963)\n"
     ]
    }
   ],
   "source": [
    "base_class.identify()\n",
    "print( base_class)"
   ]
  },
  {
   "cell_type": "code",
   "execution_count": 3,
   "metadata": {},
   "outputs": [
    {
     "name": "stdout",
     "output_type": "stream",
     "text": [
      "tt0024188 : Island of Lost Souls (1932; 2 taglines)\n"
     ]
    }
   ],
   "source": [
    "tagline_class = TaglineFilmRecord( imdb_ids[1])\n",
    "tagline_class.scrape_data()\n",
    "print( tagline_class)"
   ]
  },
  {
   "cell_type": "code",
   "execution_count": 4,
   "metadata": {},
   "outputs": [
    {
     "name": "stdout",
     "output_type": "stream",
     "text": [
      "tt0455760 : Dead Silence (2007; 3 production companies)\n"
     ]
    }
   ],
   "source": [
    "production_class = ProductionFilmRecord( imdb_ids[2])\n",
    "production_class.scrape_data()\n",
    "print( production_class)"
   ]
  },
  {
   "cell_type": "code",
   "execution_count": 5,
   "metadata": {},
   "outputs": [
    {
     "name": "stdout",
     "output_type": "stream",
     "text": [
      "tt0058620 : Strait-Jacket (1964; 1 production companies; 2 taglines; detailed record)\n"
     ]
    }
   ],
   "source": [
    "detailed_class = DetailedFilmRecord( imdb_ids[3])\n",
    "detailed_class.scrape_data()\n",
    "print( detailed_class)"
   ]
  },
  {
   "cell_type": "markdown",
   "metadata": {},
   "source": [
    "# FilmCollection\n",
    "\n",
    "* A FilmCollection contains a set of FilmRecords.  As illustrated below, FilmRecords of different types can be added to the same FilmCollection.  "
   ]
  },
  {
   "cell_type": "code",
   "execution_count": 6,
   "metadata": {},
   "outputs": [
    {
     "name": "stdout",
     "output_type": "stream",
     "text": [
      "=============================\n",
      "||                         ||\n",
      "||     Film Collection     ||\n",
      "||                         ||\n",
      "=============================\n",
      "tt0024188 : Island of Lost Souls (1932; 2 taglines)\n",
      "tt0056943 : The Comedy of Terrors (1963)\n",
      "tt0058620 : Strait-Jacket (1964; 1 production companies; 2 taglines; detailed record)\n",
      "tt0455760 : Dead Silence (2007; 3 production companies)\n"
     ]
    }
   ],
   "source": [
    "from FilmCollection import BaseFilmCollection\n",
    "all_movies = [base_class, tagline_class, production_class, detailed_class]\n",
    "film_collection = BaseFilmCollection( all_movies)\n",
    "print( film_collection)"
   ]
  },
  {
   "cell_type": "markdown",
   "metadata": {},
   "source": [
    "* Every FilmCollection class inherits the add_record method, which can accept as input both IMDB IDs and film titles.  A year can go with the film title if you want; it is only used to resolve conflicts in the case that two films have the same title, and doesn't need to be exact.\n",
    "* Note that, no matter what the input format is, the object added to the FilmCollection starts as only an IMDB ID."
   ]
  },
  {
   "cell_type": "code",
   "execution_count": 7,
   "metadata": {},
   "outputs": [
    {
     "name": "stdout",
     "output_type": "stream",
     "text": [
      "=============================\n",
      "||                         ||\n",
      "||     Film Collection     ||\n",
      "||                         ||\n",
      "=============================\n",
      "tt0083722\n",
      "tt0245686\n",
      "tt0045888\n",
      "tt0024188 : Island of Lost Souls (1932; 2 taglines)\n",
      "tt0056943 : The Comedy of Terrors (1963)\n",
      "tt0058620 : Strait-Jacket (1964; 1 production companies; 2 taglines; detailed record)\n",
      "tt0455760 : Dead Silence (2007; 3 production companies)\n"
     ]
    }
   ],
   "source": [
    "film_collection.add_record( imdb_ids[4])\n",
    "film_collection.add_record( \"Joe Dirt\")\n",
    "film_collection.add_record( \"House of Wax (1215)\")\n",
    "print( film_collection)"
   ]
  },
  {
   "cell_type": "markdown",
   "metadata": {},
   "source": [
    "* Every FilmCollection class has access to the identify_all() and scrape_all() methods, which run the corresponding FilmRecord methods in parallel."
   ]
  },
  {
   "cell_type": "code",
   "execution_count": 8,
   "metadata": {},
   "outputs": [
    {
     "name": "stdout",
     "output_type": "stream",
     "text": [
      "=============================\n",
      "||                         ||\n",
      "||     Film Collection     ||\n",
      "||                         ||\n",
      "=============================\n",
      "tt0024188 : Island of Lost Souls (1932; 2 taglines)\n",
      "tt0045888 : House of Wax (1953)\n",
      "tt0056943 : The Comedy of Terrors (1963)\n",
      "tt0058620 : Strait-Jacket (1964; 1 production companies; 2 taglines; detailed record)\n",
      "tt0083722 : Cat People (1982)\n",
      "tt0245686 : Joe Dirt (2001)\n",
      "tt0455760 : Dead Silence (2007; 3 production companies)\n"
     ]
    }
   ],
   "source": [
    "film_collection.identify_all()    \n",
    "print( film_collection)"
   ]
  },
  {
   "cell_type": "markdown",
   "metadata": {},
   "source": [
    "# FilmCollectionExport\n",
    "\n",
    "* A FilmCollectionExport is able to accomodate FilmCollections with multiple types of data."
   ]
  },
  {
   "cell_type": "code",
   "execution_count": 9,
   "metadata": {},
   "outputs": [
    {
     "name": "stdout",
     "output_type": "stream",
     "text": [
      "INSERT INTO Movie (movie_id, movie_title, movie_year) VALUES (\"tt0024188\", \"Island of Lost Souls\", 1932);\n",
      "INSERT INTO Movie (movie_id, movie_title, movie_year) VALUES (\"tt0083722\", \"Cat People\", 1982);\n",
      "INSERT INTO Movie (movie_id, movie_title, movie_year) VALUES (\"tt0245686\", \"Joe Dirt\", 2001);\n",
      "INSERT INTO Movie (movie_id, movie_title, movie_year) VALUES (\"tt0455760\", \"Dead Silence\", 2007);\n",
      "INSERT INTO Movie (movie_id, movie_title, movie_year) VALUES (\"tt0056943\", \"The Comedy of Terrors\", 1963);\n",
      "INSERT INTO Movie (movie_id, movie_title, movie_year) VALUES (\"tt0045888\", \"House of Wax\", 1953);\n",
      "INSERT INTO Movie (movie_id, movie_title, movie_year, movie_budget, movie_boxoffice, movie_runtime) VALUES (\"tt0058620\", \"Strait-Jacket\", 1964, 550000, Null, 93);\n",
      "\n",
      "INSERT INTO Person (person_id, person_name) VALUES (0, \"Robert Bloch\");\n",
      "INSERT INTO Person (person_id, person_name) VALUES (1, \"William Castle\");\n",
      "\n",
      "INSERT INTO RoleCode (role_name, role_code) VALUES (\"Director\", 0);\n",
      "INSERT INTO RoleCode (role_name, role_code) VALUES (\"Writer\", 1);\n",
      "INSERT INTO RoleCode (role_name, role_code) VALUES (\"Actor\", 2);\n",
      "\n",
      "INSERT INTO Role (movie_id, role_code, person_id) VALUES (\"tt0058620\", 0, 0);\n",
      "INSERT INTO Role (movie_id, role_code, person_id) VALUES (\"tt0058620\", 2, 1);\n",
      "\n",
      "INSERT INTO Genre (genre_id, genre_name) VALUES (0, \"Thriller\");\n",
      "INSERT INTO Genre (genre_id, genre_name) VALUES (1, \"Drama\");\n",
      "INSERT INTO Genre (genre_id, genre_name) VALUES (2, \"Horror\");\n",
      "\n",
      "INSERT INTO MovieGenre (movie_id, genre_id) VALUES (\"tt0058620\", 0);\n",
      "INSERT INTO MovieGenre (movie_id, genre_id) VALUES (\"tt0058620\", 1);\n",
      "INSERT INTO MovieGenre (movie_id, genre_id) VALUES (\"tt0058620\", 2);\n",
      "\n",
      "INSERT INTO Production (production_id, production_name) VALUES (0, \"Evolution Entertainment\");\n",
      "INSERT INTO Production (production_id, production_name) VALUES (1, \"Universal Pictures\");\n",
      "INSERT INTO Production (production_id, production_name) VALUES (2, \"Twisted Pictures\");\n",
      "INSERT INTO Production (production_id, production_name) VALUES (3, \"William Castle Productions\");\n",
      "\n",
      "INSERT INTO MovieProduction (movie_id, production_id) VALUES (\"tt0455760\", 0);\n",
      "INSERT INTO MovieProduction (movie_id, production_id) VALUES (\"tt0455760\", 1);\n",
      "INSERT INTO MovieProduction (movie_id, production_id) VALUES (\"tt0455760\", 2);\n",
      "INSERT INTO MovieProduction (movie_id, production_id) VALUES (\"tt0058620\", 3);\n",
      "\n",
      "INSERT INTO Tagline (movie_id, tagline_text, tagline_id) VALUES (\"tt0024188\", \"LOST...IN THE HIDEOUT JUNGLE KINGDOM...THAT WAS LOST TO THE WORLD! (print ad - Lubbock Morning Avalanche - Arcadia Theate - Lubbock, Texas - Nov. 22, 1939 - all caps)\", 0);\n",
      "INSERT INTO Tagline (movie_id, tagline_text, tagline_id) VALUES (\"tt0024188\", \"Beasts Into Men ! A Panther Into A Woman !\", 1);\n",
      "INSERT INTO Tagline (movie_id, tagline_text, tagline_id) VALUES (\"tt0058620\", \"HER HUSBAND...HER ROOM... ......AND ANOTHER WOMAN\", 2);\n",
      "INSERT INTO Tagline (movie_id, tagline_text, tagline_id) VALUES (\"tt0058620\", \"Keep Saying to Yourself - It's Only a Film...It's Only a Film...It's Only a Film...\", 3);\n"
     ]
    }
   ],
   "source": [
    "from FilmCollectionExport import *\n",
    "print( DetailedSQLExport( film_collection))"
   ]
  }
 ],
 "metadata": {
  "kernelspec": {
   "display_name": "Python 3",
   "language": "python",
   "name": "python3"
  },
  "language_info": {
   "codemirror_mode": {
    "name": "ipython",
    "version": 3
   },
   "file_extension": ".py",
   "mimetype": "text/x-python",
   "name": "python",
   "nbconvert_exporter": "python",
   "pygments_lexer": "ipython3",
   "version": "3.8.5"
  }
 },
 "nbformat": 4,
 "nbformat_minor": 4
}
