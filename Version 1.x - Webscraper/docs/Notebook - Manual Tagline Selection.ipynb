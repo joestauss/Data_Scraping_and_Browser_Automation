{
 "cells": [
  {
   "cell_type": "markdown",
   "metadata": {},
   "source": [
    "# Manual Tagline Selection\n",
    "\n",
    "**Most films have many taglines - usually at least one for each release on each medium in each marketing region - and by the end of their productive lifetime, some films have acquired over a dozen taglines.  To help deal with the proliferation of markering lingo, the *manual_tagline_selection* method allows a user to choose the taglines that they want.**\n",
    "\n",
    "**Begin by creating a small film collection and acting on each of the records in it.  By default, a FilmCollection tags new FilmRecords for identification, so we get the name and year of the films:**"
   ]
  },
  {
   "cell_type": "code",
   "execution_count": 1,
   "metadata": {},
   "outputs": [
    {
     "name": "stdout",
     "output_type": "stream",
     "text": [
      "FilmRecord({'film_id': 'tt0058461', 'title': 'A Fistful of Dollars', 'year': 1964})\n",
      "FilmRecord({'film_id': 'tt0065134', 'title': 'Two Mules for Sister Sara', 'year': 1970})\n",
      "FilmRecord({'film_id': 'tt0045591', 'title': 'Calamity Jane', 'year': 1953})\n"
     ]
    }
   ],
   "source": [
    "from FilmCollection import *\n",
    "from filmsets import *\n",
    "\n",
    "collection = FilmCollection( GenreSet.Western.small)\n",
    "collection.act_on_records()\n",
    "\n",
    "for record in collection:\n",
    "    print( repr( record))"
   ]
  },
  {
   "cell_type": "markdown",
   "metadata": {},
   "source": [
    "**Next, we tag all of the films in the collection to indicate that their taglines should be updated, call the *manual_tagline_slection* method, and select the taglines we want by interacting with the program.**"
   ]
  },
  {
   "cell_type": "code",
   "execution_count": 2,
   "metadata": {},
   "outputs": [
    {
     "name": "stdout",
     "output_type": "stream",
     "text": [
      "=========================================\n",
      "||                                     ||\n",
      "||     A Fistful of Dollars (1964)     ||\n",
      "||                                     ||\n",
      "=========================================\n",
      "Enter the number for the selection(s) you would like, separated by a comma.\n",
      "0:   A Fistful of Dollars is the first motion picture of its kind. It won't be the last!\n",
      "1:   This short cigar belongs to a man with no name. This long gun belongs to a man with no name. This poncho belongs to a man with no name. He's going to trigger a whole new style in adventure.\n",
      "2:   In his own way he is, perhaps, the most dangerous man who ever lived!\n",
      "3:   This is the man with no name. Danger fits him like a glove.\n",
      "4:   A town where everyone is rich... or dead\n",
      ">>> five hundred, 4, 3\n",
      "User wants five hundred, 4, 3.  This corresponds to the following selection(s):\n",
      "\tfive hundred was not a valid choice.\n",
      "\tA town where everyone is rich... or dead\n",
      "\tThis is the man with no name. Danger fits him like a glove.\n",
      "==============================================\n",
      "||                                          ||\n",
      "||     Two Mules for Sister Sara (1970)     ||\n",
      "||                                          ||\n",
      "==============================================\n",
      "Enter the number for the selection(s) you would like, separated by a comma.\n",
      "0:   CLINT EASTWOOD...the deadliest man alive...takes on a whole army with two guns and a fistful of dynamite!\n",
      ">>> 0\n",
      "User wants 0.  This corresponds to the following selection(s):\n",
      "\tCLINT EASTWOOD...the deadliest man alive...takes on a whole army with two guns and a fistful of dynamite!\n",
      "==================================\n",
      "||                              ||\n",
      "||     Calamity Jane (1953)     ||\n",
      "||                              ||\n",
      "==================================\n",
      "Enter the number for the selection(s) you would like, separated by a comma.\n",
      "0:   Brand-new song hits by the stage load!\n",
      "1:   Yippeeeee!! It's the big bonanza in musical extravaganza!\n",
      "2:   Warner Bros. sky highest, smile widest, wild and woolliest Western of 'em all!\n",
      ">>> 0, 1, 2\n",
      "User wants 0, 1, 2.  This corresponds to the following selection(s):\n",
      "\tBrand-new song hits by the stage load!\n",
      "\tYippeeeee!! It's the big bonanza in musical extravaganza!\n",
      "\tWarner Bros. sky highest, smile widest, wild and woolliest Western of 'em all!\n"
     ]
    }
   ],
   "source": [
    "collection.tag_all( FilmRecord.TAGLINES_TAG)\n",
    "collection.manual_tagline_selection()"
   ]
  },
  {
   "cell_type": "markdown",
   "metadata": {},
   "source": [
    "**Upon viewing the results, we can see that only the indicated taglines have been saved.**"
   ]
  },
  {
   "cell_type": "code",
   "execution_count": 3,
   "metadata": {},
   "outputs": [
    {
     "name": "stdout",
     "output_type": "stream",
     "text": [
      "A Fistful of Dollars (1964)\n",
      "===========================\n",
      "  film_id --- tt0058461\n",
      "  title --- A Fistful of Dollars\n",
      "  year --- 1964\n",
      "  taglines --- ['A town where everyone is rich... or dead', 'This is the man with no name. Danger fits him like a glove.']\n",
      "\n",
      "\n",
      "Two Mules for Sister Sara (1970)\n",
      "================================\n",
      "  film_id --- tt0065134\n",
      "  title --- Two Mules for Sister Sara\n",
      "  year --- 1970\n",
      "  taglines --- ['CLINT EASTWOOD...the deadliest man alive...takes on a whole army with two guns and a fistful of dynamite!']\n",
      "\n",
      "\n",
      "Calamity Jane (1953)\n",
      "====================\n",
      "  film_id --- tt0045591\n",
      "  title --- Calamity Jane\n",
      "  year --- 1953\n",
      "  taglines --- ['Brand-new song hits by the stage load!', \"Yippeeeee!! It's the big bonanza in musical extravaganza!\", \"Warner Bros. sky highest, smile widest, wild and woolliest Western of 'em all!\"]\n"
     ]
    }
   ],
   "source": [
    "print( \"\\n\\n\\n\".join( [record.pretty_print() for record in collection]))"
   ]
  }
 ],
 "metadata": {
  "kernelspec": {
   "display_name": "Python 3",
   "language": "python",
   "name": "python3"
  },
  "language_info": {
   "codemirror_mode": {
    "name": "ipython",
    "version": 3
   },
   "file_extension": ".py",
   "mimetype": "text/x-python",
   "name": "python",
   "nbconvert_exporter": "python",
   "pygments_lexer": "ipython3",
   "version": "3.8.5"
  }
 },
 "nbformat": 4,
 "nbformat_minor": 4
}
