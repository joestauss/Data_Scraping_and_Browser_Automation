{
 "cells": [
  {
   "cell_type": "code",
   "execution_count": 1,
   "metadata": {},
   "outputs": [
    {
     "name": "stdout",
     "output_type": "stream",
     "text": [
      "From 3 films, there were 27 unique recommendations\n",
      "From 3 films, there were 6 films recommended multiple times.\n"
     ]
    }
   ],
   "source": [
    "from filmsets import *\n",
    "from FilmCollection import *\n",
    "from copy import deepcopy\n",
    "\n",
    "collection1 = BaseFilmCollection( TestSet.VincentPrice.small)\n",
    "collection1.identify_all()\n",
    "collection2 = deepcopy( collection1)\n",
    "\n",
    "collection1.full_recommendation_expansion()\n",
    "collection2.multiple_adjacency_recommendation_expansion()"
   ]
  }
 ],
 "metadata": {
  "kernelspec": {
   "display_name": "Python 3",
   "language": "python",
   "name": "python3"
  },
  "language_info": {
   "codemirror_mode": {
    "name": "ipython",
    "version": 3
   },
   "file_extension": ".py",
   "mimetype": "text/x-python",
   "name": "python",
   "nbconvert_exporter": "python",
   "pygments_lexer": "ipython3",
   "version": "3.8.5"
  }
 },
 "nbformat": 4,
 "nbformat_minor": 4
}
