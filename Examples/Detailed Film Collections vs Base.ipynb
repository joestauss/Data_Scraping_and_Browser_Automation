{
 "cells": [
  {
   "cell_type": "code",
   "execution_count": 1,
   "metadata": {},
   "outputs": [
    {
     "name": "stdout",
     "output_type": "stream",
     "text": [
      "Adding record 1 of 3\n",
      "Adding record 2 of 3\n",
      "Adding record 3 of 3\n"
     ]
    }
   ],
   "source": [
    "from filmsets import VincentPriceSets\n",
    "from base_classes import *\n",
    "from detailed_classes import *\n",
    "\n",
    "filmset = VincentPriceSets.small\n",
    "\n",
    "basic_data    = BaseFilmCollection(     filmset, VERBOSE=False)\n",
    "detailed_data = DetailedFilmCollection( filmset, VERBOSE=True )"
   ]
  },
  {
   "cell_type": "code",
   "execution_count": 2,
   "metadata": {
    "scrolled": true
   },
   "outputs": [
    {
     "name": "stdout",
     "output_type": "stream",
     "text": [
      "INSERT INTO Movie (movie_id, movie_title, movie_year) VALUES (\"tt0051622\", Null, Null);\n",
      "INSERT INTO Movie (movie_id, movie_title, movie_year) VALUES (\"tt0045888\", Null, Null);\n",
      "INSERT INTO Movie (movie_id, movie_title, movie_year) VALUES (\"tt0058333\", Null, Null);\n"
     ]
    }
   ],
   "source": [
    "print( BaseFilmDatabase( basic_data).as_sql() )"
   ]
  },
  {
   "cell_type": "code",
   "execution_count": 3,
   "metadata": {},
   "outputs": [
    {
     "name": "stdout",
     "output_type": "stream",
     "text": [
      "INSERT INTO Movie (movie_id, movie_title, movie_year, movie_budget, movie_boxoffice, movie_runtime) VALUES (\"tt0045888\", \"House of Wax\", 1953, 1000000, 23750000, 88);\n",
      "INSERT INTO Movie (movie_id, movie_title, movie_year, movie_budget, movie_boxoffice, movie_runtime) VALUES (\"tt0051622\", \"The Fly\", 1958, 700000, 1501, 94);\n",
      "INSERT INTO Movie (movie_id, movie_title, movie_year, movie_budget, movie_boxoffice, movie_runtime) VALUES (\"tt0058333\", \"The Masque of the Red Death\", 1964, Null, Null, 89);\n",
      "\n",
      "INSERT INTO Genre (genre_id, genre_name) VALUES (0, \"Horror\");\n",
      "INSERT INTO Genre (genre_id, genre_name) VALUES (1, \"Drama\");\n",
      "INSERT INTO Genre (genre_id, genre_name) VALUES (2, \"Sci-Fi\");\n",
      "\n",
      "INSERT INTO MovieGenre (movie_id, genre_id) VALUES (\"tt0045888\", 0);\n",
      "INSERT INTO MovieGenre (movie_id, genre_id) VALUES (\"tt0051622\", 0);\n",
      "INSERT INTO MovieGenre (movie_id, genre_id) VALUES (\"tt0051622\", 1);\n",
      "INSERT INTO MovieGenre (movie_id, genre_id) VALUES (\"tt0051622\", 2);\n",
      "INSERT INTO MovieGenre (movie_id, genre_id) VALUES (\"tt0058333\", 0);\n",
      "\n",
      "INSERT INTO Person (person_id, person_name) VALUES (0, \"André De Toth\");\n",
      "INSERT INTO Person (person_id, person_name) VALUES (1, \"Charles Belden\");\n",
      "INSERT INTO Person (person_id, person_name) VALUES (2, \"Crane Wilbur\");\n",
      "INSERT INTO Person (person_id, person_name) VALUES (3, \"Vincent Price\");\n",
      "INSERT INTO Person (person_id, person_name) VALUES (4, \"Phyllis Kirk\");\n",
      "INSERT INTO Person (person_id, person_name) VALUES (5, \"Frank Lovejoy\");\n",
      "INSERT INTO Person (person_id, person_name) VALUES (6, \"Kurt Neumann\");\n",
      "INSERT INTO Person (person_id, person_name) VALUES (7, \"James Clavell\");\n",
      "INSERT INTO Person (person_id, person_name) VALUES (8, \"George Langelaan\");\n",
      "INSERT INTO Person (person_id, person_name) VALUES (9, \"David Hedison\");\n",
      "INSERT INTO Person (person_id, person_name) VALUES (10, \"Patricia Owens\");\n",
      "INSERT INTO Person (person_id, person_name) VALUES (11, \"Roger Corman\");\n",
      "INSERT INTO Person (person_id, person_name) VALUES (12, \"R. Wright Campbell\");\n",
      "INSERT INTO Person (person_id, person_name) VALUES (13, \"Charles Beaumont\");\n",
      "INSERT INTO Person (person_id, person_name) VALUES (14, \"Jane Asher\");\n",
      "INSERT INTO Person (person_id, person_name) VALUES (15, \"Hazel Court\");\n",
      "\n",
      "INSERT INTO RoleCode (role_name, role_code) VALUES (\"Director\", 0);\n",
      "INSERT INTO RoleCode (role_name, role_code) VALUES (\"Writer\", 1);\n",
      "INSERT INTO RoleCode (role_name, role_code) VALUES (\"Actor\", 2);\n",
      "\n",
      "INSERT INTO Role (movie_id, role_code, person_id) VALUES (\"tt0045888\", 0, 0);\n",
      "INSERT INTO Role (movie_id, role_code, person_id) VALUES (\"tt0045888\", 1, 1);\n",
      "INSERT INTO Role (movie_id, role_code, person_id) VALUES (\"tt0045888\", 1, 2);\n",
      "INSERT INTO Role (movie_id, role_code, person_id) VALUES (\"tt0045888\", 2, 3);\n",
      "INSERT INTO Role (movie_id, role_code, person_id) VALUES (\"tt0045888\", 2, 4);\n",
      "INSERT INTO Role (movie_id, role_code, person_id) VALUES (\"tt0045888\", 2, 5);\n",
      "INSERT INTO Role (movie_id, role_code, person_id) VALUES (\"tt0051622\", 0, 6);\n",
      "INSERT INTO Role (movie_id, role_code, person_id) VALUES (\"tt0051622\", 1, 7);\n",
      "INSERT INTO Role (movie_id, role_code, person_id) VALUES (\"tt0051622\", 1, 8);\n",
      "INSERT INTO Role (movie_id, role_code, person_id) VALUES (\"tt0051622\", 2, 9);\n",
      "INSERT INTO Role (movie_id, role_code, person_id) VALUES (\"tt0051622\", 2, 10);\n",
      "INSERT INTO Role (movie_id, role_code, person_id) VALUES (\"tt0051622\", 2, 3);\n",
      "INSERT INTO Role (movie_id, role_code, person_id) VALUES (\"tt0058333\", 0, 11);\n",
      "INSERT INTO Role (movie_id, role_code, person_id) VALUES (\"tt0058333\", 1, 12);\n",
      "INSERT INTO Role (movie_id, role_code, person_id) VALUES (\"tt0058333\", 1, 13);\n",
      "INSERT INTO Role (movie_id, role_code, person_id) VALUES (\"tt0058333\", 2, 3);\n",
      "INSERT INTO Role (movie_id, role_code, person_id) VALUES (\"tt0058333\", 2, 14);\n",
      "INSERT INTO Role (movie_id, role_code, person_id) VALUES (\"tt0058333\", 2, 15);\n",
      "\n",
      "INSERT INTO Production (production_id, production_name) VALUES (0, \"Warner Bros.\");\n",
      "INSERT INTO Production (production_id, production_name) VALUES (1, \"Bryan Foy Productions\");\n",
      "INSERT INTO Production (production_id, production_name) VALUES (2, \"Twentieth Century Fox\");\n",
      "INSERT INTO Production (production_id, production_name) VALUES (3, \"Regal Films\");\n",
      "INSERT INTO Production (production_id, production_name) VALUES (4, \"Alta Vista Productions\");\n",
      "\n",
      "INSERT INTO MovieProduction (movie_id, production_id) VALUES (\"tt0045888\", 0);\n",
      "INSERT INTO MovieProduction (movie_id, production_id) VALUES (\"tt0045888\", 1);\n",
      "INSERT INTO MovieProduction (movie_id, production_id) VALUES (\"tt0051622\", 2);\n",
      "INSERT INTO MovieProduction (movie_id, production_id) VALUES (\"tt0051622\", 3);\n",
      "INSERT INTO MovieProduction (movie_id, production_id) VALUES (\"tt0058333\", 4);\n",
      "\n",
      "INSERT INTO Tagline (movie_id, tagline_text, tagline_id) VALUES (\"tt0045888\", \"UNLIKE ANYTHING YOU'VE SEEN BEFORE! (original print ad - all caps)\", 0);\n",
      "INSERT INTO Tagline (movie_id, tagline_text, tagline_id) VALUES (\"tt0045888\", \"Warner Bros. bring you the first feature produced by a major studio in 3D...\", 1);\n",
      "INSERT INTO Tagline (movie_id, tagline_text, tagline_id) VALUES (\"tt0051622\", \"For your own good we urge you not to see it alone!\", 2);\n",
      "INSERT INTO Tagline (movie_id, tagline_text, tagline_id) VALUES (\"tt0051622\", \"Horror Of The Winged Menace !\", 3);\n",
      "INSERT INTO Tagline (movie_id, tagline_text, tagline_id) VALUES (\"tt0058333\", \"LOOK INTO THIS FACE - SHUDDER... at the blood-stained dance of the Red Death! TREMBLE... to the hideous tortures of the catacombs of Kali! GASP... at the sacrifice of the innocent virgin to the ven...\", 4);\n",
      "INSERT INTO Tagline (movie_id, tagline_text, tagline_id) VALUES (\"tt0058333\", \"SHUDDER... at the blood-stained dance of the Red Death!  TREMBLE... to the hideous tortures of the catacombs of Kali!  GASP... at the sacrifice of the innocent virgin to the vengeance of Baal!\", 5);\n"
     ]
    }
   ],
   "source": [
    "print( DetailedFilmDatabase( detailed_data).as_sql() )"
   ]
  }
 ],
 "metadata": {
  "kernelspec": {
   "display_name": "Python 3",
   "language": "python",
   "name": "python3"
  },
  "language_info": {
   "codemirror_mode": {
    "name": "ipython",
    "version": 3
   },
   "file_extension": ".py",
   "mimetype": "text/x-python",
   "name": "python",
   "nbconvert_exporter": "python",
   "pygments_lexer": "ipython3",
   "version": "3.8.5"
  }
 },
 "nbformat": 4,
 "nbformat_minor": 4
}
