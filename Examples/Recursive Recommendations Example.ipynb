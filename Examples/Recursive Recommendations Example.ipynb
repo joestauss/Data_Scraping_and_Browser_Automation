{
 "cells": [
  {
   "cell_type": "code",
   "execution_count": 1,
   "metadata": {},
   "outputs": [
    {
     "name": "stdout",
     "output_type": "stream",
     "text": [
      "1 recursive layers remain.\n",
      "\t\tGetting recs from tt0859635\n",
      "\t...2 new items.\n"
     ]
    }
   ],
   "source": [
    "from my_browser_automation import IMDB_Tools\n",
    "import movie_lists\n",
    "\n",
    "example_collection = IMDB_Tools.recursive_recommendations( movie_lists.tiny_list, 2, 1)"
   ]
  },
  {
   "cell_type": "code",
   "execution_count": 2,
   "metadata": {},
   "outputs": [
    {
     "name": "stdout",
     "output_type": "stream",
     "text": [
      "{'tt0859635', 'tt0247745', 'tt1135525'}\n"
     ]
    }
   ],
   "source": [
    "print( example_collection)"
   ]
  }
 ],
 "metadata": {
  "kernelspec": {
   "display_name": "Python 3",
   "language": "python",
   "name": "python3"
  },
  "language_info": {
   "codemirror_mode": {
    "name": "ipython",
    "version": 3
   },
   "file_extension": ".py",
   "mimetype": "text/x-python",
   "name": "python",
   "nbconvert_exporter": "python",
   "pygments_lexer": "ipython3",
   "version": "3.8.5"
  }
 },
 "nbformat": 4,
 "nbformat_minor": 4
}
