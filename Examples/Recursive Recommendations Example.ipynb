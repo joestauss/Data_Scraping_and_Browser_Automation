{
 "cells": [
  {
   "cell_type": "code",
   "execution_count": 1,
   "metadata": {},
   "outputs": [
    {
     "name": "stdout",
     "output_type": "stream",
     "text": [
      "3 recursive layers remain.\n",
      "\t\tGetting recs from tt0859635\n",
      "\t...2 new items.\n",
      "2 recursive layers remain.\n",
      "\t\tGetting recs from tt8026448\n",
      "\t\tGetting recs from tt0114694\n",
      "\t...4 new items.\n",
      "1 recursive layers remain.\n",
      "\t\tGetting recs from tt0437863\n",
      "\t\tGetting recs from tt0120484\n",
      "\t\tGetting recs from tt0247745\n",
      "\t\tGetting recs from tt1135525\n",
      "\t...7 new items.\n"
     ]
    }
   ],
   "source": [
    "import my_browser_automation\n",
    "import movie_lists\n",
    "\n",
    "example_collection = my_browser_automation.recursive_recommendations( movie_lists.tiny_list, 2, 3)"
   ]
  },
  {
   "cell_type": "code",
   "execution_count": 2,
   "metadata": {},
   "outputs": [
    {
     "name": "stdout",
     "output_type": "stream",
     "text": [
      "{'tt8026448', 'tt0114694', 'tt0859635', 'tt0245686', 'tt0115697', 'tt0247745', 'tt0120484', 'tt1135525', 'tt1323044', 'tt0280590', 'tt0762107', 'tt0437863'}\n"
     ]
    }
   ],
   "source": [
    "print( example_collection)"
   ]
  }
 ],
 "metadata": {
  "kernelspec": {
   "display_name": "Python 3",
   "language": "python",
   "name": "python3"
  },
  "language_info": {
   "codemirror_mode": {
    "name": "ipython",
    "version": 3
   },
   "file_extension": ".py",
   "mimetype": "text/x-python",
   "name": "python",
   "nbconvert_exporter": "python",
   "pygments_lexer": "ipython3",
   "version": "3.8.5"
  }
 },
 "nbformat": 4,
 "nbformat_minor": 4
}
