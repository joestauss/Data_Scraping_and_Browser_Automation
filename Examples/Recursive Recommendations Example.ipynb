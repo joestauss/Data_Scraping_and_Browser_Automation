{
 "cells": [
  {
   "cell_type": "code",
   "execution_count": 1,
   "metadata": {},
   "outputs": [
    {
     "name": "stdout",
     "output_type": "stream",
     "text": [
      "2 recursive layers remain.\n",
      "\t\tGetting recs from tt0045888\n",
      "\t\tGetting recs from tt0051622\n",
      "\t\tGetting recs from tt0058333\n",
      "\t...3 new items.\n",
      "1 recursive layers remain.\n",
      "\t\tGetting recs from tt0051744\n",
      "\t\tGetting recs from tt0064747\n",
      "\t\tGetting recs from tt0056943\n",
      "\t...5 new items.\n"
     ]
    }
   ],
   "source": [
    "from browser_automation import IMDB_Tools\n",
    "from filmsets import VincentPriceSets\n",
    "\n",
    "example_collection = IMDB_Tools.recursive_recommendations(VincentPriceSets.small, 2, 2)"
   ]
  },
  {
   "cell_type": "code",
   "execution_count": 2,
   "metadata": {},
   "outputs": [
    {
     "name": "stdout",
     "output_type": "stream",
     "text": [
      "{'tt0056552', 'tt0058333', 'tt0051622', 'tt0064949', 'tt0056943', 'tt0055304', 'tt0045888', 'tt0051744', 'tt0064747'}\n"
     ]
    }
   ],
   "source": [
    "print( example_collection)"
   ]
  }
 ],
 "metadata": {
  "kernelspec": {
   "display_name": "Python 3",
   "language": "python",
   "name": "python3"
  },
  "language_info": {
   "codemirror_mode": {
    "name": "ipython",
    "version": 3
   },
   "file_extension": ".py",
   "mimetype": "text/x-python",
   "name": "python",
   "nbconvert_exporter": "python",
   "pygments_lexer": "ipython3",
   "version": "3.8.5"
  }
 },
 "nbformat": 4,
 "nbformat_minor": 4
}
