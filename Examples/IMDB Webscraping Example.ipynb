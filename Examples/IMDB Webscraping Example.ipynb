{
 "cells": [
  {
   "cell_type": "code",
   "execution_count": 1,
   "metadata": {},
   "outputs": [
    {
     "name": "stdout",
     "output_type": "stream",
     "text": [
      "Scraping from tt0247745...\t(1 of 3)\n",
      "Scraping from tt8820258...\t(2 of 3)\n",
      "Scraping from tt0859635...\t(3 of 3)\n"
     ]
    }
   ],
   "source": [
    "import movie_lists\n",
    "import movie_database as mvdb\n",
    "\n",
    "raw_movie_data = mvdb.MovieCollection( movie_lists.one_has_no_taglines, VERBOSE=True)"
   ]
  },
  {
   "cell_type": "code",
   "execution_count": 2,
   "metadata": {},
   "outputs": [
    {
     "name": "stdout",
     "output_type": "stream",
     "text": [
      "INSERT INTO Movie (movie_id, movie_title, movie_year, movie_budget, movie_boxoffice, movie_runtime) VALUES (\"tt8820258\", \"Super Troopers 3: Winter Soldiers             \", Null, Null, Null, 100);\n",
      "INSERT INTO Movie (movie_id, movie_title, movie_year, movie_budget, movie_boxoffice, movie_runtime) VALUES (\"tt0247745\", \"Super Troopers\", 2001, 3000000, 23182223, 100);\n",
      "INSERT INTO Movie (movie_id, movie_title, movie_year, movie_budget, movie_boxoffice, movie_runtime) VALUES (\"tt0859635\", \"Super Troopers 2\", 2018, 13500000, 31626386, 100);\n",
      "\n",
      "INSERT INTO Genre (genre_id, genre_name) VALUES (0, \"Mystery\");\n",
      "INSERT INTO Genre (genre_id, genre_name) VALUES (1, \"Crime\");\n",
      "INSERT INTO Genre (genre_id, genre_name) VALUES (2, \"Comedy\");\n",
      "\n",
      "INSERT INTO MovieGenre (movie_id, genre_id) VALUES (\"tt8820258\", 0);\n",
      "INSERT INTO MovieGenre (movie_id, genre_id) VALUES (\"tt8820258\", 1);\n",
      "INSERT INTO MovieGenre (movie_id, genre_id) VALUES (\"tt8820258\", 2);\n",
      "INSERT INTO MovieGenre (movie_id, genre_id) VALUES (\"tt0247745\", 0);\n",
      "INSERT INTO MovieGenre (movie_id, genre_id) VALUES (\"tt0247745\", 1);\n",
      "INSERT INTO MovieGenre (movie_id, genre_id) VALUES (\"tt0247745\", 2);\n",
      "INSERT INTO MovieGenre (movie_id, genre_id) VALUES (\"tt0859635\", 0);\n",
      "INSERT INTO MovieGenre (movie_id, genre_id) VALUES (\"tt0859635\", 1);\n",
      "INSERT INTO MovieGenre (movie_id, genre_id) VALUES (\"tt0859635\", 2);\n",
      "\n",
      "INSERT INTO Person (person_id, person_name) VALUES (0, \"Jay Chandrasekhar\");\n",
      "INSERT INTO Person (person_id, person_name) VALUES (1, \"Kevin Heffernan\");\n",
      "INSERT INTO Person (person_id, person_name) VALUES (2, \"Steve Lemme\");\n",
      "INSERT INTO Person (person_id, person_name) VALUES (3, \"André Vippolis\");\n",
      "\n",
      "INSERT INTO RoleCode (role_code, role_name) VALUES (0, \"Director\");\n",
      "INSERT INTO RoleCode (role_code, role_name) VALUES (1, \"Writer\");\n",
      "INSERT INTO RoleCode (role_code, role_name) VALUES (2, \"Actor\");\n",
      "\n",
      "INSERT INTO Role (movie_id, role_code, person_id) VALUES (\"tt8820258\", 0, 0);\n",
      "INSERT INTO Role (movie_id, role_code, person_id) VALUES (\"tt8820258\", 1, 0);\n",
      "INSERT INTO Role (movie_id, role_code, person_id) VALUES (\"tt8820258\", 1, 1);\n",
      "INSERT INTO Role (movie_id, role_code, person_id) VALUES (\"tt8820258\", 2, 0);\n",
      "INSERT INTO Role (movie_id, role_code, person_id) VALUES (\"tt8820258\", 2, 1);\n",
      "INSERT INTO Role (movie_id, role_code, person_id) VALUES (\"tt8820258\", 2, 2);\n",
      "INSERT INTO Role (movie_id, role_code, person_id) VALUES (\"tt0247745\", 0, 0);\n",
      "INSERT INTO Role (movie_id, role_code, person_id) VALUES (\"tt0247745\", 1, 0);\n",
      "INSERT INTO Role (movie_id, role_code, person_id) VALUES (\"tt0247745\", 1, 1);\n",
      "INSERT INTO Role (movie_id, role_code, person_id) VALUES (\"tt0247745\", 2, 0);\n",
      "INSERT INTO Role (movie_id, role_code, person_id) VALUES (\"tt0247745\", 2, 1);\n",
      "INSERT INTO Role (movie_id, role_code, person_id) VALUES (\"tt0247745\", 2, 3);\n",
      "INSERT INTO Role (movie_id, role_code, person_id) VALUES (\"tt0859635\", 0, 0);\n",
      "INSERT INTO Role (movie_id, role_code, person_id) VALUES (\"tt0859635\", 1, 0);\n",
      "INSERT INTO Role (movie_id, role_code, person_id) VALUES (\"tt0859635\", 1, 1);\n",
      "INSERT INTO Role (movie_id, role_code, person_id) VALUES (\"tt0859635\", 2, 0);\n",
      "INSERT INTO Role (movie_id, role_code, person_id) VALUES (\"tt0859635\", 2, 1);\n",
      "INSERT INTO Role (movie_id, role_code, person_id) VALUES (\"tt0859635\", 2, 2);\n",
      "\n",
      "INSERT INTO Production (production_id, production_name) VALUES (0, \"Broken Lizard Industries\");\n",
      "INSERT INTO Production (production_id, production_name) VALUES (1, \"Cataland Films\");\n",
      "INSERT INTO Production (production_id, production_name) VALUES (2, \"Fox Searchlight Pictures\");\n",
      "INSERT INTO Production (production_id, production_name) VALUES (3, \"Jersey Shore\");\n",
      "INSERT INTO Production (production_id, production_name) VALUES (4, \"Árpád Productions\");\n",
      "INSERT INTO Production (production_id, production_name) VALUES (5, \"Votiv Films\");\n",
      "INSERT INTO Production (production_id, production_name) VALUES (6, \"Needle's Eye Productions\");\n",
      "INSERT INTO Production (production_id, production_name) VALUES (7, \"Heretical Reason Productions\");\n",
      "\n",
      "INSERT INTO MovieProduction (movie_id, production_id) VALUES (\"tt8820258\", 0);\n",
      "INSERT INTO MovieProduction (movie_id, production_id) VALUES (\"tt0247745\", 1);\n",
      "INSERT INTO MovieProduction (movie_id, production_id) VALUES (\"tt0247745\", 2);\n",
      "INSERT INTO MovieProduction (movie_id, production_id) VALUES (\"tt0247745\", 3);\n",
      "INSERT INTO MovieProduction (movie_id, production_id) VALUES (\"tt0247745\", 4);\n",
      "INSERT INTO MovieProduction (movie_id, production_id) VALUES (\"tt0247745\", 0);\n",
      "INSERT INTO MovieProduction (movie_id, production_id) VALUES (\"tt0859635\", 1);\n",
      "INSERT INTO MovieProduction (movie_id, production_id) VALUES (\"tt0859635\", 0);\n",
      "INSERT INTO MovieProduction (movie_id, production_id) VALUES (\"tt0859635\", 5);\n",
      "INSERT INTO MovieProduction (movie_id, production_id) VALUES (\"tt0859635\", 6);\n",
      "INSERT INTO MovieProduction (movie_id, production_id) VALUES (\"tt0859635\", 7);\n",
      "\n",
      "INSERT INTO Tagline (tagline_id, movie_id, tagline_text) VALUES (0, \"tt0247745\", \"Altered State Police\");\n",
      "INSERT INTO Tagline (tagline_id, movie_id, tagline_text) VALUES (1, \"tt0247745\", \"You dont mess with the law.  The law messes with you.\");\n",
      "INSERT INTO Tagline (tagline_id, movie_id, tagline_text) VALUES (2, \"tt0859635\", \"Don't Miss It!\");\n",
      "INSERT INTO Tagline (tagline_id, movie_id, tagline_text) VALUES (3, \"tt0859635\", \"The time is meow.\");\n"
     ]
    }
   ],
   "source": [
    "normalized_movie_data = mvdb.NormalizedMovieDatabase( raw_movie_data)\n",
    "\n",
    "print( normalized_movie_data.as_sql())"
   ]
  }
 ],
 "metadata": {
  "kernelspec": {
   "display_name": "Python 3",
   "language": "python",
   "name": "python3"
  },
  "language_info": {
   "codemirror_mode": {
    "name": "ipython",
    "version": 3
   },
   "file_extension": ".py",
   "mimetype": "text/x-python",
   "name": "python",
   "nbconvert_exporter": "python",
   "pygments_lexer": "ipython3",
   "version": "3.8.5"
  }
 },
 "nbformat": 4,
 "nbformat_minor": 4
}
