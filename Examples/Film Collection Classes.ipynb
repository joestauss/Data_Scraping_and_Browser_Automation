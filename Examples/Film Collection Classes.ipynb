{
 "cells": [
  {
   "cell_type": "code",
   "execution_count": 1,
   "metadata": {},
   "outputs": [
    {
     "name": "stdout",
     "output_type": "stream",
     "text": [
      "=============================\n",
      "||                         ||\n",
      "||     Film Collection     ||\n",
      "||                         ||\n",
      "=============================\n",
      "tt0058333 : None (None)\n",
      "tt0045888 : None (None)\n",
      "tt0051622 : None (None)\n"
     ]
    }
   ],
   "source": [
    "from filmsets import VincentPriceSets\n",
    "from FilmDatabase import *\n",
    "\n",
    "filmset = VincentPriceSets.small\n",
    "\n",
    "basic_collection    = BaseFilmCollection( filmset)\n",
    "print( basic_collection )"
   ]
  },
  {
   "cell_type": "code",
   "execution_count": 2,
   "metadata": {
    "scrolled": true
   },
   "outputs": [
    {
     "name": "stdout",
     "output_type": "stream",
     "text": [
      "Adding record 1 of 3\n",
      "Adding record 2 of 3\n",
      "Adding record 3 of 3\n",
      "=============================\n",
      "||                         ||\n",
      "||     Film Collection     ||\n",
      "||                         ||\n",
      "=============================\n",
      "tt0045888 : None (None)\n",
      "\t(2 taglines)\n",
      "tt0058333 : None (None)\n",
      "\t(2 taglines)\n",
      "tt0051622 : None (None)\n",
      "\t(2 taglines)\n"
     ]
    }
   ],
   "source": [
    "taglined_collection = TaglineFilmCollection(filmset, VERBOSE = True)\n",
    "print(  taglined_collection)"
   ]
  },
  {
   "cell_type": "code",
   "execution_count": 3,
   "metadata": {},
   "outputs": [
    {
     "name": "stdout",
     "output_type": "stream",
     "text": [
      "Adding record 1 of 3\n",
      "Adding record 2 of 3\n",
      "Adding record 3 of 3\n",
      "=============================\n",
      "||                         ||\n",
      "||     Film Collection     ||\n",
      "||                         ||\n",
      "=============================\n",
      "tt0051622 : The Fly (1958)\n",
      "\t(2 production companies)\n",
      "\t(2 taglines)\n",
      "\t(detailed record)\n",
      "tt0045888 : House of Wax (1953)\n",
      "\t(2 production companies)\n",
      "\t(2 taglines)\n",
      "\t(detailed record)\n",
      "tt0058333 : The Masque of the Red Death (1964)\n",
      "\t(1 production companies)\n",
      "\t(2 taglines)\n",
      "\t(detailed record)\n"
     ]
    }
   ],
   "source": [
    "detailed_collection = DetailedFilmCollection( filmset, VERBOSE = True)\n",
    "print(  detailed_collection )"
   ]
  },
  {
   "cell_type": "code",
   "execution_count": 4,
   "metadata": {},
   "outputs": [
    {
     "name": "stdout",
     "output_type": "stream",
     "text": [
      "INSERT INTO Movie (movie_id, movie_title, movie_year, movie_budget, movie_boxoffice, movie_runtime) VALUES (\"tt0051622\", \"The Fly\", 1958, 700000, 1501, 94);\n",
      "INSERT INTO Movie (movie_id, movie_title, movie_year, movie_budget, movie_boxoffice, movie_runtime) VALUES (\"tt0045888\", \"House of Wax\", 1953, 1000000, 23750000, 88);\n",
      "INSERT INTO Movie (movie_id, movie_title, movie_year, movie_budget, movie_boxoffice, movie_runtime) VALUES (\"tt0058333\", \"The Masque of the Red Death\", 1964, Null, Null, 89);\n",
      "\n",
      "INSERT INTO Genre (genre_name, genre_id) VALUES (0, \"Drama\");\n",
      "INSERT INTO Genre (genre_name, genre_id) VALUES (1, \"Horror\");\n",
      "INSERT INTO Genre (genre_name, genre_id) VALUES (2, \"Sci-Fi\");\n",
      "\n",
      "INSERT INTO MovieGenre (movie_id, genre_id) VALUES (\"tt0051622\", 0);\n",
      "INSERT INTO MovieGenre (movie_id, genre_id) VALUES (\"tt0051622\", 1);\n",
      "INSERT INTO MovieGenre (movie_id, genre_id) VALUES (\"tt0051622\", 2);\n",
      "INSERT INTO MovieGenre (movie_id, genre_id) VALUES (\"tt0045888\", 1);\n",
      "INSERT INTO MovieGenre (movie_id, genre_id) VALUES (\"tt0058333\", 1);\n",
      "\n",
      "INSERT INTO Production (production_name, production_id) VALUES (0, \"Twentieth Century Fox\");\n",
      "INSERT INTO Production (production_name, production_id) VALUES (1, \"Regal Films\");\n",
      "INSERT INTO Production (production_name, production_id) VALUES (2, \"Bryan Foy Productions\");\n",
      "INSERT INTO Production (production_name, production_id) VALUES (3, \"Warner Bros.\");\n",
      "INSERT INTO Production (production_name, production_id) VALUES (4, \"Alta Vista Productions\");\n",
      "\n",
      "INSERT INTO MovieProduction (movie_id, production_id) VALUES (\"tt0051622\", 0);\n",
      "INSERT INTO MovieProduction (movie_id, production_id) VALUES (\"tt0051622\", 1);\n",
      "INSERT INTO MovieProduction (movie_id, production_id) VALUES (\"tt0045888\", 2);\n",
      "INSERT INTO MovieProduction (movie_id, production_id) VALUES (\"tt0045888\", 3);\n",
      "INSERT INTO MovieProduction (movie_id, production_id) VALUES (\"tt0058333\", 4);\n",
      "\n",
      "INSERT INTO Person (person_name, person_id) VALUES (0, \"Kurt Neumann\");\n",
      "INSERT INTO Person (person_name, person_id) VALUES (1, \"George Langelaan\");\n",
      "INSERT INTO Person (person_name, person_id) VALUES (2, \"James Clavell\");\n",
      "INSERT INTO Person (person_name, person_id) VALUES (3, \"Patricia Owens\");\n",
      "INSERT INTO Person (person_name, person_id) VALUES (4, \"David Hedison\");\n",
      "INSERT INTO Person (person_name, person_id) VALUES (5, \"Vincent Price\");\n",
      "INSERT INTO Person (person_name, person_id) VALUES (6, \"André De Toth\");\n",
      "INSERT INTO Person (person_name, person_id) VALUES (7, \"Charles Belden\");\n",
      "INSERT INTO Person (person_name, person_id) VALUES (8, \"Crane Wilbur\");\n",
      "INSERT INTO Person (person_name, person_id) VALUES (9, \"Phyllis Kirk\");\n",
      "INSERT INTO Person (person_name, person_id) VALUES (10, \"Frank Lovejoy\");\n",
      "INSERT INTO Person (person_name, person_id) VALUES (11, \"Roger Corman\");\n",
      "INSERT INTO Person (person_name, person_id) VALUES (12, \"R. Wright Campbell\");\n",
      "INSERT INTO Person (person_name, person_id) VALUES (13, \"Charles Beaumont\");\n",
      "INSERT INTO Person (person_name, person_id) VALUES (14, \"Hazel Court\");\n",
      "INSERT INTO Person (person_name, person_id) VALUES (15, \"Jane Asher\");\n",
      "\n",
      "INSERT INTO RoleCode (role_name, role_code) VALUES (\"Director\", 0);\n",
      "INSERT INTO RoleCode (role_name, role_code) VALUES (\"Writer\", 1);\n",
      "INSERT INTO RoleCode (role_name, role_code) VALUES (\"Actor\", 2);\n",
      "\n",
      "INSERT INTO Role (movie_id, role_code, person_id) VALUES (\"tt0051622\", 0, 0);\n",
      "INSERT INTO Role (movie_id, role_code, person_id) VALUES (\"tt0051622\", 1, 1);\n",
      "INSERT INTO Role (movie_id, role_code, person_id) VALUES (\"tt0051622\", 1, 2);\n",
      "INSERT INTO Role (movie_id, role_code, person_id) VALUES (\"tt0051622\", 2, 3);\n",
      "INSERT INTO Role (movie_id, role_code, person_id) VALUES (\"tt0051622\", 2, 4);\n",
      "INSERT INTO Role (movie_id, role_code, person_id) VALUES (\"tt0051622\", 2, 5);\n",
      "INSERT INTO Role (movie_id, role_code, person_id) VALUES (\"tt0045888\", 0, 6);\n",
      "INSERT INTO Role (movie_id, role_code, person_id) VALUES (\"tt0045888\", 1, 7);\n",
      "INSERT INTO Role (movie_id, role_code, person_id) VALUES (\"tt0045888\", 1, 8);\n",
      "INSERT INTO Role (movie_id, role_code, person_id) VALUES (\"tt0045888\", 2, 9);\n",
      "INSERT INTO Role (movie_id, role_code, person_id) VALUES (\"tt0045888\", 2, 5);\n",
      "INSERT INTO Role (movie_id, role_code, person_id) VALUES (\"tt0045888\", 2, 10);\n",
      "INSERT INTO Role (movie_id, role_code, person_id) VALUES (\"tt0058333\", 0, 11);\n",
      "INSERT INTO Role (movie_id, role_code, person_id) VALUES (\"tt0058333\", 1, 12);\n",
      "INSERT INTO Role (movie_id, role_code, person_id) VALUES (\"tt0058333\", 1, 13);\n",
      "INSERT INTO Role (movie_id, role_code, person_id) VALUES (\"tt0058333\", 2, 14);\n",
      "INSERT INTO Role (movie_id, role_code, person_id) VALUES (\"tt0058333\", 2, 15);\n",
      "INSERT INTO Role (movie_id, role_code, person_id) VALUES (\"tt0058333\", 2, 5);\n",
      "\n",
      "INSERT INTO Tagline (movie_id, tagline_text, tagline_id) VALUES (\"tt0051622\", \"The monster created by atoms gone wild\", 0);\n",
      "INSERT INTO Tagline (movie_id, tagline_text, tagline_id) VALUES (\"tt0051622\", \"Once it was human... even as you and I!\", 1);\n",
      "INSERT INTO Tagline (movie_id, tagline_text, tagline_id) VALUES (\"tt0045888\", \"Nothing that has gone before can compare with this!\", 2);\n",
      "INSERT INTO Tagline (movie_id, tagline_text, tagline_id) VALUES (\"tt0045888\", \"The Wax Figures Also Looked Like Other People - People Who Had Disappeared..........\", 3);\n",
      "INSERT INTO Tagline (movie_id, tagline_text, tagline_id) VALUES (\"tt0058333\", \"LOOK INTO THIS FACE - SHUDDER... at the blood-stained dance of the Red Death! TREMBLE... to the hideous tortures of the catacombs of Kali! GASP... at the sacrifice of the innocent virgin to the ven...\", 4);\n",
      "INSERT INTO Tagline (movie_id, tagline_text, tagline_id) VALUES (\"tt0058333\", \"Horror has a face.\", 5);\n"
     ]
    }
   ],
   "source": [
    "print( DetailedFilmDatabase( detailed_collection).as_sql())"
   ]
  }
 ],
 "metadata": {
  "kernelspec": {
   "display_name": "Python 3",
   "language": "python",
   "name": "python3"
  },
  "language_info": {
   "codemirror_mode": {
    "name": "ipython",
    "version": 3
   },
   "file_extension": ".py",
   "mimetype": "text/x-python",
   "name": "python",
   "nbconvert_exporter": "python",
   "pygments_lexer": "ipython3",
   "version": "3.8.5"
  }
 },
 "nbformat": 4,
 "nbformat_minor": 4
}
